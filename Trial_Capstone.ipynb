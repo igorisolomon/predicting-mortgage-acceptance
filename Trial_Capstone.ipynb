{
 "cells": [
  {
   "cell_type": "markdown",
   "metadata": {},
   "source": [
    "## Performance Metric\n",
    "The performance metric for our classification task is the accuracy (also known as \"classification rate\"). It is the fraction of predictions our model got right. For binary classification, accuracy can be calculated in terms of positives and negatives as follows:\n",
    "\n",
    "**Accuracy =(TP+TN)/(TP+TN+FP+FN)**\n",
    "> where; \n",
    "> * TP ---> True Positives \n",
    "> * TN ---> True Negatives \n",
    "> * FP ---> False Positives \n",
    "> * FN ---> False Negatives."
   ]
  },
  {
   "cell_type": "markdown",
   "metadata": {},
   "source": [
    "### Load Required Libraries"
   ]
  },
  {
   "cell_type": "code",
   "execution_count": 1,
   "metadata": {},
   "outputs": [],
   "source": [
    "import pandas as pd\n",
    "import numpy as np\n",
    "import matplotlib.pyplot as plt\n",
    "from pandas.api.types import is_numeric_dtype\n",
    "from pylab import rcParams\n",
    "import seaborn as sb\n",
    "sb.set_style('darkgrid')\n",
    "rcParams['figure.figsize'] = 8,8\n",
    "import warnings\n",
    "warnings.filterwarnings(\"ignore\")\n",
    "%matplotlib inline"
   ]
  },
  {
   "cell_type": "code",
   "execution_count": 2,
   "metadata": {},
   "outputs": [],
   "source": [
    "# Loading training and testing datasets and set row_id as index for all the datasets\n",
    "train_values = pd.read_csv(\"train_values.csv\",index_col='row_id')\n",
    "train_labels = pd.read_csv(\"train_labels.csv\",index_col='row_id')\n",
    "test_values = pd.read_csv(\"test_values.csv\",index_col='row_id')\n",
    "submission = pd.read_csv(\"submission_format.csv\")"
   ]
  },
  {
   "cell_type": "code",
   "execution_count": 3,
   "metadata": {},
   "outputs": [
    {
     "name": "stdout",
     "output_type": "stream",
     "text": [
      "The train values consist of 500000 observations and 21 feature columns.\n",
      "The train labels consist of 500000 observations and a single column.\n",
      "The test values consists of 500000 observations and 21 feature columns.\n"
     ]
    }
   ],
   "source": [
    "print(\"The train values consist of {} observations and {} feature columns.\".format(train_values.shape[0],train_values.shape[1]))\n",
    "print(\"The train labels consist of {} observations and a single column.\".format(train_labels.shape[0]))\n",
    "print(\"The test values consists of {} observations and {} feature columns.\".format(test_values.shape[0],test_values.shape[1]))"
   ]
  },
  {
   "cell_type": "code",
   "execution_count": 4,
   "metadata": {},
   "outputs": [
    {
     "data": {
      "text/html": [
       "<div>\n",
       "<style scoped>\n",
       "    .dataframe tbody tr th:only-of-type {\n",
       "        vertical-align: middle;\n",
       "    }\n",
       "\n",
       "    .dataframe tbody tr th {\n",
       "        vertical-align: top;\n",
       "    }\n",
       "\n",
       "    .dataframe thead th {\n",
       "        text-align: right;\n",
       "    }\n",
       "</style>\n",
       "<table border=\"1\" class=\"dataframe\">\n",
       "  <thead>\n",
       "    <tr style=\"text-align: right;\">\n",
       "      <th></th>\n",
       "      <th>loan_type</th>\n",
       "      <th>property_type</th>\n",
       "      <th>loan_purpose</th>\n",
       "      <th>occupancy</th>\n",
       "      <th>loan_amount</th>\n",
       "      <th>preapproval</th>\n",
       "      <th>msa_md</th>\n",
       "      <th>state_code</th>\n",
       "      <th>county_code</th>\n",
       "      <th>applicant_ethnicity</th>\n",
       "      <th>...</th>\n",
       "      <th>applicant_sex</th>\n",
       "      <th>applicant_income</th>\n",
       "      <th>population</th>\n",
       "      <th>minority_population_pct</th>\n",
       "      <th>ffiecmedian_family_income</th>\n",
       "      <th>tract_to_msa_md_income_pct</th>\n",
       "      <th>number_of_owner-occupied_units</th>\n",
       "      <th>number_of_1_to_4_family_units</th>\n",
       "      <th>lender</th>\n",
       "      <th>co_applicant</th>\n",
       "    </tr>\n",
       "    <tr>\n",
       "      <th>row_id</th>\n",
       "      <th></th>\n",
       "      <th></th>\n",
       "      <th></th>\n",
       "      <th></th>\n",
       "      <th></th>\n",
       "      <th></th>\n",
       "      <th></th>\n",
       "      <th></th>\n",
       "      <th></th>\n",
       "      <th></th>\n",
       "      <th></th>\n",
       "      <th></th>\n",
       "      <th></th>\n",
       "      <th></th>\n",
       "      <th></th>\n",
       "      <th></th>\n",
       "      <th></th>\n",
       "      <th></th>\n",
       "      <th></th>\n",
       "      <th></th>\n",
       "      <th></th>\n",
       "    </tr>\n",
       "  </thead>\n",
       "  <tbody>\n",
       "    <tr>\n",
       "      <th>0</th>\n",
       "      <td>3</td>\n",
       "      <td>1</td>\n",
       "      <td>1</td>\n",
       "      <td>1</td>\n",
       "      <td>70.0</td>\n",
       "      <td>3</td>\n",
       "      <td>18</td>\n",
       "      <td>37</td>\n",
       "      <td>246</td>\n",
       "      <td>2</td>\n",
       "      <td>...</td>\n",
       "      <td>1</td>\n",
       "      <td>24.0</td>\n",
       "      <td>6203.0</td>\n",
       "      <td>44.230</td>\n",
       "      <td>60588.0</td>\n",
       "      <td>50.933</td>\n",
       "      <td>716.0</td>\n",
       "      <td>2642.0</td>\n",
       "      <td>4536</td>\n",
       "      <td>False</td>\n",
       "    </tr>\n",
       "    <tr>\n",
       "      <th>1</th>\n",
       "      <td>1</td>\n",
       "      <td>1</td>\n",
       "      <td>3</td>\n",
       "      <td>1</td>\n",
       "      <td>178.0</td>\n",
       "      <td>3</td>\n",
       "      <td>369</td>\n",
       "      <td>52</td>\n",
       "      <td>299</td>\n",
       "      <td>1</td>\n",
       "      <td>...</td>\n",
       "      <td>1</td>\n",
       "      <td>57.0</td>\n",
       "      <td>5774.0</td>\n",
       "      <td>15.905</td>\n",
       "      <td>54821.0</td>\n",
       "      <td>100.000</td>\n",
       "      <td>1622.0</td>\n",
       "      <td>2108.0</td>\n",
       "      <td>2458</td>\n",
       "      <td>False</td>\n",
       "    </tr>\n",
       "    <tr>\n",
       "      <th>2</th>\n",
       "      <td>2</td>\n",
       "      <td>1</td>\n",
       "      <td>3</td>\n",
       "      <td>1</td>\n",
       "      <td>163.0</td>\n",
       "      <td>3</td>\n",
       "      <td>16</td>\n",
       "      <td>10</td>\n",
       "      <td>306</td>\n",
       "      <td>2</td>\n",
       "      <td>...</td>\n",
       "      <td>1</td>\n",
       "      <td>67.0</td>\n",
       "      <td>6094.0</td>\n",
       "      <td>61.270</td>\n",
       "      <td>67719.0</td>\n",
       "      <td>100.000</td>\n",
       "      <td>760.0</td>\n",
       "      <td>1048.0</td>\n",
       "      <td>5710</td>\n",
       "      <td>False</td>\n",
       "    </tr>\n",
       "    <tr>\n",
       "      <th>3</th>\n",
       "      <td>1</td>\n",
       "      <td>1</td>\n",
       "      <td>1</td>\n",
       "      <td>1</td>\n",
       "      <td>155.0</td>\n",
       "      <td>1</td>\n",
       "      <td>305</td>\n",
       "      <td>47</td>\n",
       "      <td>180</td>\n",
       "      <td>2</td>\n",
       "      <td>...</td>\n",
       "      <td>1</td>\n",
       "      <td>105.0</td>\n",
       "      <td>6667.0</td>\n",
       "      <td>6.246</td>\n",
       "      <td>78439.0</td>\n",
       "      <td>100.000</td>\n",
       "      <td>2025.0</td>\n",
       "      <td>2299.0</td>\n",
       "      <td>5888</td>\n",
       "      <td>True</td>\n",
       "    </tr>\n",
       "    <tr>\n",
       "      <th>4</th>\n",
       "      <td>1</td>\n",
       "      <td>1</td>\n",
       "      <td>1</td>\n",
       "      <td>1</td>\n",
       "      <td>305.0</td>\n",
       "      <td>3</td>\n",
       "      <td>24</td>\n",
       "      <td>37</td>\n",
       "      <td>20</td>\n",
       "      <td>2</td>\n",
       "      <td>...</td>\n",
       "      <td>2</td>\n",
       "      <td>71.0</td>\n",
       "      <td>6732.0</td>\n",
       "      <td>100.000</td>\n",
       "      <td>63075.0</td>\n",
       "      <td>82.200</td>\n",
       "      <td>1464.0</td>\n",
       "      <td>1847.0</td>\n",
       "      <td>289</td>\n",
       "      <td>False</td>\n",
       "    </tr>\n",
       "  </tbody>\n",
       "</table>\n",
       "<p>5 rows × 21 columns</p>\n",
       "</div>"
      ],
      "text/plain": [
       "        loan_type  property_type  loan_purpose  occupancy  loan_amount  \\\n",
       "row_id                                                                   \n",
       "0               3              1             1          1         70.0   \n",
       "1               1              1             3          1        178.0   \n",
       "2               2              1             3          1        163.0   \n",
       "3               1              1             1          1        155.0   \n",
       "4               1              1             1          1        305.0   \n",
       "\n",
       "        preapproval  msa_md  state_code  county_code  applicant_ethnicity  \\\n",
       "row_id                                                                      \n",
       "0                 3      18          37          246                    2   \n",
       "1                 3     369          52          299                    1   \n",
       "2                 3      16          10          306                    2   \n",
       "3                 1     305          47          180                    2   \n",
       "4                 3      24          37           20                    2   \n",
       "\n",
       "        ...  applicant_sex  applicant_income  population  \\\n",
       "row_id  ...                                                \n",
       "0       ...              1              24.0      6203.0   \n",
       "1       ...              1              57.0      5774.0   \n",
       "2       ...              1              67.0      6094.0   \n",
       "3       ...              1             105.0      6667.0   \n",
       "4       ...              2              71.0      6732.0   \n",
       "\n",
       "        minority_population_pct  ffiecmedian_family_income  \\\n",
       "row_id                                                       \n",
       "0                        44.230                    60588.0   \n",
       "1                        15.905                    54821.0   \n",
       "2                        61.270                    67719.0   \n",
       "3                         6.246                    78439.0   \n",
       "4                       100.000                    63075.0   \n",
       "\n",
       "        tract_to_msa_md_income_pct  number_of_owner-occupied_units  \\\n",
       "row_id                                                               \n",
       "0                           50.933                           716.0   \n",
       "1                          100.000                          1622.0   \n",
       "2                          100.000                           760.0   \n",
       "3                          100.000                          2025.0   \n",
       "4                           82.200                          1464.0   \n",
       "\n",
       "        number_of_1_to_4_family_units  lender  co_applicant  \n",
       "row_id                                                       \n",
       "0                              2642.0    4536         False  \n",
       "1                              2108.0    2458         False  \n",
       "2                              1048.0    5710         False  \n",
       "3                              2299.0    5888          True  \n",
       "4                              1847.0     289         False  \n",
       "\n",
       "[5 rows x 21 columns]"
      ]
     },
     "execution_count": 4,
     "metadata": {},
     "output_type": "execute_result"
    }
   ],
   "source": [
    "# displaying the first 5 rows of the training values\n",
    "train_values.head()"
   ]
  },
  {
   "cell_type": "code",
   "execution_count": 5,
   "metadata": {},
   "outputs": [
    {
     "name": "stdout",
     "output_type": "stream",
     "text": [
      "<class 'pandas.core.frame.DataFrame'>\n",
      "Int64Index: 500000 entries, 0 to 499999\n",
      "Data columns (total 21 columns):\n",
      "loan_type                         500000 non-null int64\n",
      "property_type                     500000 non-null int64\n",
      "loan_purpose                      500000 non-null int64\n",
      "occupancy                         500000 non-null int64\n",
      "loan_amount                       500000 non-null float64\n",
      "preapproval                       500000 non-null int64\n",
      "msa_md                            500000 non-null int64\n",
      "state_code                        500000 non-null int64\n",
      "county_code                       500000 non-null int64\n",
      "applicant_ethnicity               500000 non-null int64\n",
      "applicant_race                    500000 non-null int64\n",
      "applicant_sex                     500000 non-null int64\n",
      "applicant_income                  460052 non-null float64\n",
      "population                        477535 non-null float64\n",
      "minority_population_pct           477534 non-null float64\n",
      "ffiecmedian_family_income         477560 non-null float64\n",
      "tract_to_msa_md_income_pct        477486 non-null float64\n",
      "number_of_owner-occupied_units    477435 non-null float64\n",
      "number_of_1_to_4_family_units     477470 non-null float64\n",
      "lender                            500000 non-null int64\n",
      "co_applicant                      500000 non-null bool\n",
      "dtypes: bool(1), float64(8), int64(12)\n",
      "memory usage: 80.6 MB\n"
     ]
    }
   ],
   "source": [
    "train_values.info()"
   ]
  },
  {
   "cell_type": "code",
   "execution_count": 6,
   "metadata": {},
   "outputs": [
    {
     "data": {
      "text/html": [
       "<div>\n",
       "<style scoped>\n",
       "    .dataframe tbody tr th:only-of-type {\n",
       "        vertical-align: middle;\n",
       "    }\n",
       "\n",
       "    .dataframe tbody tr th {\n",
       "        vertical-align: top;\n",
       "    }\n",
       "\n",
       "    .dataframe thead th {\n",
       "        text-align: right;\n",
       "    }\n",
       "</style>\n",
       "<table border=\"1\" class=\"dataframe\">\n",
       "  <thead>\n",
       "    <tr style=\"text-align: right;\">\n",
       "      <th></th>\n",
       "      <th>count</th>\n",
       "      <th>mean</th>\n",
       "      <th>std</th>\n",
       "      <th>min</th>\n",
       "      <th>25%</th>\n",
       "      <th>50%</th>\n",
       "      <th>75%</th>\n",
       "      <th>max</th>\n",
       "    </tr>\n",
       "  </thead>\n",
       "  <tbody>\n",
       "    <tr>\n",
       "      <th>loan_type</th>\n",
       "      <td>500000.0</td>\n",
       "      <td>1.366276</td>\n",
       "      <td>0.690555</td>\n",
       "      <td>1.000</td>\n",
       "      <td>1.00000</td>\n",
       "      <td>1.000</td>\n",
       "      <td>2.00</td>\n",
       "      <td>4.0</td>\n",
       "    </tr>\n",
       "    <tr>\n",
       "      <th>property_type</th>\n",
       "      <td>500000.0</td>\n",
       "      <td>1.047650</td>\n",
       "      <td>0.231404</td>\n",
       "      <td>1.000</td>\n",
       "      <td>1.00000</td>\n",
       "      <td>1.000</td>\n",
       "      <td>1.00</td>\n",
       "      <td>3.0</td>\n",
       "    </tr>\n",
       "    <tr>\n",
       "      <th>loan_purpose</th>\n",
       "      <td>500000.0</td>\n",
       "      <td>2.066810</td>\n",
       "      <td>0.948371</td>\n",
       "      <td>1.000</td>\n",
       "      <td>1.00000</td>\n",
       "      <td>2.000</td>\n",
       "      <td>3.00</td>\n",
       "      <td>3.0</td>\n",
       "    </tr>\n",
       "    <tr>\n",
       "      <th>occupancy</th>\n",
       "      <td>500000.0</td>\n",
       "      <td>1.109590</td>\n",
       "      <td>0.326092</td>\n",
       "      <td>1.000</td>\n",
       "      <td>1.00000</td>\n",
       "      <td>1.000</td>\n",
       "      <td>1.00</td>\n",
       "      <td>3.0</td>\n",
       "    </tr>\n",
       "    <tr>\n",
       "      <th>loan_amount</th>\n",
       "      <td>500000.0</td>\n",
       "      <td>221.753158</td>\n",
       "      <td>590.641648</td>\n",
       "      <td>1.000</td>\n",
       "      <td>93.00000</td>\n",
       "      <td>162.000</td>\n",
       "      <td>266.00</td>\n",
       "      <td>100878.0</td>\n",
       "    </tr>\n",
       "    <tr>\n",
       "      <th>preapproval</th>\n",
       "      <td>500000.0</td>\n",
       "      <td>2.764722</td>\n",
       "      <td>0.543061</td>\n",
       "      <td>1.000</td>\n",
       "      <td>3.00000</td>\n",
       "      <td>3.000</td>\n",
       "      <td>3.00</td>\n",
       "      <td>3.0</td>\n",
       "    </tr>\n",
       "    <tr>\n",
       "      <th>msa_md</th>\n",
       "      <td>500000.0</td>\n",
       "      <td>181.606972</td>\n",
       "      <td>138.464169</td>\n",
       "      <td>-1.000</td>\n",
       "      <td>25.00000</td>\n",
       "      <td>192.000</td>\n",
       "      <td>314.00</td>\n",
       "      <td>408.0</td>\n",
       "    </tr>\n",
       "    <tr>\n",
       "      <th>state_code</th>\n",
       "      <td>500000.0</td>\n",
       "      <td>23.726924</td>\n",
       "      <td>15.982768</td>\n",
       "      <td>-1.000</td>\n",
       "      <td>6.00000</td>\n",
       "      <td>26.000</td>\n",
       "      <td>37.00</td>\n",
       "      <td>52.0</td>\n",
       "    </tr>\n",
       "    <tr>\n",
       "      <th>county_code</th>\n",
       "      <td>500000.0</td>\n",
       "      <td>144.542062</td>\n",
       "      <td>100.243612</td>\n",
       "      <td>-1.000</td>\n",
       "      <td>57.00000</td>\n",
       "      <td>131.000</td>\n",
       "      <td>246.00</td>\n",
       "      <td>324.0</td>\n",
       "    </tr>\n",
       "    <tr>\n",
       "      <th>applicant_ethnicity</th>\n",
       "      <td>500000.0</td>\n",
       "      <td>2.036228</td>\n",
       "      <td>0.511351</td>\n",
       "      <td>1.000</td>\n",
       "      <td>2.00000</td>\n",
       "      <td>2.000</td>\n",
       "      <td>2.00</td>\n",
       "      <td>4.0</td>\n",
       "    </tr>\n",
       "    <tr>\n",
       "      <th>applicant_race</th>\n",
       "      <td>500000.0</td>\n",
       "      <td>4.786586</td>\n",
       "      <td>1.024927</td>\n",
       "      <td>1.000</td>\n",
       "      <td>5.00000</td>\n",
       "      <td>5.000</td>\n",
       "      <td>5.00</td>\n",
       "      <td>7.0</td>\n",
       "    </tr>\n",
       "    <tr>\n",
       "      <th>applicant_sex</th>\n",
       "      <td>500000.0</td>\n",
       "      <td>1.462374</td>\n",
       "      <td>0.677685</td>\n",
       "      <td>1.000</td>\n",
       "      <td>1.00000</td>\n",
       "      <td>1.000</td>\n",
       "      <td>2.00</td>\n",
       "      <td>4.0</td>\n",
       "    </tr>\n",
       "    <tr>\n",
       "      <th>applicant_income</th>\n",
       "      <td>460052.0</td>\n",
       "      <td>102.389521</td>\n",
       "      <td>153.534496</td>\n",
       "      <td>1.000</td>\n",
       "      <td>47.00000</td>\n",
       "      <td>74.000</td>\n",
       "      <td>117.00</td>\n",
       "      <td>10139.0</td>\n",
       "    </tr>\n",
       "    <tr>\n",
       "      <th>population</th>\n",
       "      <td>477535.0</td>\n",
       "      <td>5416.833956</td>\n",
       "      <td>2728.144999</td>\n",
       "      <td>14.000</td>\n",
       "      <td>3744.00000</td>\n",
       "      <td>4975.000</td>\n",
       "      <td>6467.00</td>\n",
       "      <td>37097.0</td>\n",
       "    </tr>\n",
       "    <tr>\n",
       "      <th>minority_population_pct</th>\n",
       "      <td>477534.0</td>\n",
       "      <td>31.617310</td>\n",
       "      <td>26.333938</td>\n",
       "      <td>0.534</td>\n",
       "      <td>10.70000</td>\n",
       "      <td>22.901</td>\n",
       "      <td>46.02</td>\n",
       "      <td>100.0</td>\n",
       "    </tr>\n",
       "    <tr>\n",
       "      <th>ffiecmedian_family_income</th>\n",
       "      <td>477560.0</td>\n",
       "      <td>69235.603298</td>\n",
       "      <td>14810.058791</td>\n",
       "      <td>17858.000</td>\n",
       "      <td>59731.00000</td>\n",
       "      <td>67526.000</td>\n",
       "      <td>75351.00</td>\n",
       "      <td>125248.0</td>\n",
       "    </tr>\n",
       "    <tr>\n",
       "      <th>tract_to_msa_md_income_pct</th>\n",
       "      <td>477486.0</td>\n",
       "      <td>91.832624</td>\n",
       "      <td>14.210924</td>\n",
       "      <td>3.981</td>\n",
       "      <td>88.06725</td>\n",
       "      <td>100.000</td>\n",
       "      <td>100.00</td>\n",
       "      <td>100.0</td>\n",
       "    </tr>\n",
       "    <tr>\n",
       "      <th>number_of_owner-occupied_units</th>\n",
       "      <td>477435.0</td>\n",
       "      <td>1427.718282</td>\n",
       "      <td>737.559511</td>\n",
       "      <td>4.000</td>\n",
       "      <td>944.00000</td>\n",
       "      <td>1327.000</td>\n",
       "      <td>1780.00</td>\n",
       "      <td>8771.0</td>\n",
       "    </tr>\n",
       "    <tr>\n",
       "      <th>number_of_1_to_4_family_units</th>\n",
       "      <td>477470.0</td>\n",
       "      <td>1886.147065</td>\n",
       "      <td>914.123744</td>\n",
       "      <td>1.000</td>\n",
       "      <td>1301.00000</td>\n",
       "      <td>1753.000</td>\n",
       "      <td>2309.00</td>\n",
       "      <td>13623.0</td>\n",
       "    </tr>\n",
       "    <tr>\n",
       "      <th>lender</th>\n",
       "      <td>500000.0</td>\n",
       "      <td>3720.121344</td>\n",
       "      <td>1838.313175</td>\n",
       "      <td>0.000</td>\n",
       "      <td>2442.00000</td>\n",
       "      <td>3731.000</td>\n",
       "      <td>5436.00</td>\n",
       "      <td>6508.0</td>\n",
       "    </tr>\n",
       "  </tbody>\n",
       "</table>\n",
       "</div>"
      ],
      "text/plain": [
       "                                   count          mean           std  \\\n",
       "loan_type                       500000.0      1.366276      0.690555   \n",
       "property_type                   500000.0      1.047650      0.231404   \n",
       "loan_purpose                    500000.0      2.066810      0.948371   \n",
       "occupancy                       500000.0      1.109590      0.326092   \n",
       "loan_amount                     500000.0    221.753158    590.641648   \n",
       "preapproval                     500000.0      2.764722      0.543061   \n",
       "msa_md                          500000.0    181.606972    138.464169   \n",
       "state_code                      500000.0     23.726924     15.982768   \n",
       "county_code                     500000.0    144.542062    100.243612   \n",
       "applicant_ethnicity             500000.0      2.036228      0.511351   \n",
       "applicant_race                  500000.0      4.786586      1.024927   \n",
       "applicant_sex                   500000.0      1.462374      0.677685   \n",
       "applicant_income                460052.0    102.389521    153.534496   \n",
       "population                      477535.0   5416.833956   2728.144999   \n",
       "minority_population_pct         477534.0     31.617310     26.333938   \n",
       "ffiecmedian_family_income       477560.0  69235.603298  14810.058791   \n",
       "tract_to_msa_md_income_pct      477486.0     91.832624     14.210924   \n",
       "number_of_owner-occupied_units  477435.0   1427.718282    737.559511   \n",
       "number_of_1_to_4_family_units   477470.0   1886.147065    914.123744   \n",
       "lender                          500000.0   3720.121344   1838.313175   \n",
       "\n",
       "                                      min          25%        50%       75%  \\\n",
       "loan_type                           1.000      1.00000      1.000      2.00   \n",
       "property_type                       1.000      1.00000      1.000      1.00   \n",
       "loan_purpose                        1.000      1.00000      2.000      3.00   \n",
       "occupancy                           1.000      1.00000      1.000      1.00   \n",
       "loan_amount                         1.000     93.00000    162.000    266.00   \n",
       "preapproval                         1.000      3.00000      3.000      3.00   \n",
       "msa_md                             -1.000     25.00000    192.000    314.00   \n",
       "state_code                         -1.000      6.00000     26.000     37.00   \n",
       "county_code                        -1.000     57.00000    131.000    246.00   \n",
       "applicant_ethnicity                 1.000      2.00000      2.000      2.00   \n",
       "applicant_race                      1.000      5.00000      5.000      5.00   \n",
       "applicant_sex                       1.000      1.00000      1.000      2.00   \n",
       "applicant_income                    1.000     47.00000     74.000    117.00   \n",
       "population                         14.000   3744.00000   4975.000   6467.00   \n",
       "minority_population_pct             0.534     10.70000     22.901     46.02   \n",
       "ffiecmedian_family_income       17858.000  59731.00000  67526.000  75351.00   \n",
       "tract_to_msa_md_income_pct          3.981     88.06725    100.000    100.00   \n",
       "number_of_owner-occupied_units      4.000    944.00000   1327.000   1780.00   \n",
       "number_of_1_to_4_family_units       1.000   1301.00000   1753.000   2309.00   \n",
       "lender                              0.000   2442.00000   3731.000   5436.00   \n",
       "\n",
       "                                     max  \n",
       "loan_type                            4.0  \n",
       "property_type                        3.0  \n",
       "loan_purpose                         3.0  \n",
       "occupancy                            3.0  \n",
       "loan_amount                     100878.0  \n",
       "preapproval                          3.0  \n",
       "msa_md                             408.0  \n",
       "state_code                          52.0  \n",
       "county_code                        324.0  \n",
       "applicant_ethnicity                  4.0  \n",
       "applicant_race                       7.0  \n",
       "applicant_sex                        4.0  \n",
       "applicant_income                 10139.0  \n",
       "population                       37097.0  \n",
       "minority_population_pct            100.0  \n",
       "ffiecmedian_family_income       125248.0  \n",
       "tract_to_msa_md_income_pct         100.0  \n",
       "number_of_owner-occupied_units    8771.0  \n",
       "number_of_1_to_4_family_units    13623.0  \n",
       "lender                            6508.0  "
      ]
     },
     "execution_count": 6,
     "metadata": {},
     "output_type": "execute_result"
    }
   ],
   "source": [
    "# Descriptive statistics for the numeric features. Have transposed to prevent scrolling horizontally\n",
    "train_values.describe().T"
   ]
  },
  {
   "cell_type": "code",
   "execution_count": 7,
   "metadata": {},
   "outputs": [
    {
     "data": {
      "text/html": [
       "<div>\n",
       "<style scoped>\n",
       "    .dataframe tbody tr th:only-of-type {\n",
       "        vertical-align: middle;\n",
       "    }\n",
       "\n",
       "    .dataframe tbody tr th {\n",
       "        vertical-align: top;\n",
       "    }\n",
       "\n",
       "    .dataframe thead th {\n",
       "        text-align: right;\n",
       "    }\n",
       "</style>\n",
       "<table border=\"1\" class=\"dataframe\">\n",
       "  <thead>\n",
       "    <tr style=\"text-align: right;\">\n",
       "      <th></th>\n",
       "      <th>accepted</th>\n",
       "    </tr>\n",
       "    <tr>\n",
       "      <th>row_id</th>\n",
       "      <th></th>\n",
       "    </tr>\n",
       "  </thead>\n",
       "  <tbody>\n",
       "    <tr>\n",
       "      <th>0</th>\n",
       "      <td>1</td>\n",
       "    </tr>\n",
       "    <tr>\n",
       "      <th>1</th>\n",
       "      <td>0</td>\n",
       "    </tr>\n",
       "    <tr>\n",
       "      <th>2</th>\n",
       "      <td>1</td>\n",
       "    </tr>\n",
       "    <tr>\n",
       "      <th>3</th>\n",
       "      <td>1</td>\n",
       "    </tr>\n",
       "    <tr>\n",
       "      <th>4</th>\n",
       "      <td>1</td>\n",
       "    </tr>\n",
       "  </tbody>\n",
       "</table>\n",
       "</div>"
      ],
      "text/plain": [
       "        accepted\n",
       "row_id          \n",
       "0              1\n",
       "1              0\n",
       "2              1\n",
       "3              1\n",
       "4              1"
      ]
     },
     "execution_count": 7,
     "metadata": {},
     "output_type": "execute_result"
    }
   ],
   "source": [
    "# displaying the first 5 rows of the training labels\n",
    "train_labels.head()"
   ]
  },
  {
   "cell_type": "code",
   "execution_count": 8,
   "metadata": {},
   "outputs": [
    {
     "name": "stdout",
     "output_type": "stream",
     "text": [
      "<class 'pandas.core.frame.DataFrame'>\n",
      "Int64Index: 500000 entries, 0 to 499999\n",
      "Data columns (total 1 columns):\n",
      "accepted    500000 non-null int64\n",
      "dtypes: int64(1)\n",
      "memory usage: 7.6 MB\n"
     ]
    }
   ],
   "source": [
    "train_labels.info()"
   ]
  },
  {
   "cell_type": "code",
   "execution_count": 9,
   "metadata": {},
   "outputs": [
    {
     "data": {
      "text/plain": [
       "1    250114\n",
       "0    249886\n",
       "Name: accepted, dtype: int64"
      ]
     },
     "execution_count": 9,
     "metadata": {},
     "output_type": "execute_result"
    }
   ],
   "source": [
    "train_labels['accepted'].value_counts()"
   ]
  },
  {
   "cell_type": "markdown",
   "metadata": {},
   "source": [
    "# DATA EXPLORATION & Visualization"
   ]
  },
  {
   "cell_type": "markdown",
   "metadata": {},
   "source": [
    "### Univariate Analysis (Categorical features) Using the unmodified train_values"
   ]
  },
  {
   "cell_type": "markdown",
   "metadata": {},
   "source": [
    "The categorical features are:\n",
    "1. loan_type  \n",
    "2. property_type\n",
    "3. loan_purpose \n",
    "3. occupancy\n",
    "5. preapproval \n",
    "6. msa_md \n",
    "7. state_code \n",
    "8. county_code\n",
    "9. applicant_ethnicity\n",
    "10. applicant_race \n",
    "11. applicant_sex\n",
    "12. co_applicant \n",
    " "
   ]
  },
  {
   "cell_type": "code",
   "execution_count": 10,
   "metadata": {},
   "outputs": [
    {
     "name": "stdout",
     "output_type": "stream",
     "text": [
      "1    370827\n",
      "2     82430\n",
      "3     39521\n",
      "4      7222\n",
      "Name: loan_type, dtype: int64\n",
      "+-+-+-+-+-+-+-+-+-+-+-+-+-+-+-+-+-+-+-+-+-+-+-+-+-+-+-+-+-+-+-+-+-+-+-+-+-+-+-+-+-+-+-+-+-+-+-+-+-+-+-+-+-+-+-+-\n",
      "\n",
      "A little above 74.2% of the loan applications constituted conventional loans i.e. any loan other than FHA, VA,FSA, or RHS loans. The Federal Housing Administration (FHA-insured) loan represnted a little above 16.5% and Veterans Administration (VA-guaranteed) loans, also formed about 7.9% of the total loan types. The Farm service Agency or Rural Housing Service (FSA/RHS) formed a little above 1.4% of the total loan applications.\n"
     ]
    },
    {
     "data": {
      "image/png": "[encoded data removed]",
      "text/plain": [
       "<Figure size 1080x360 with 1 Axes>"
      ]
     },
     "metadata": {
      "needs_background": "light"
     },
     "output_type": "display_data"
    }
   ],
   "source": [
    "# 1 -- Conventional (any loan other than FHA, VA, FSA, or RHS loans). \n",
    "# 2 -- FHA-insured (Federal Housing Administration). \n",
    "# 3 -- VA-guaranteed (Veterans Administration). \n",
    "# 4 -- FSA/RHS (Farm Service Agency or Rural Housing Service).\n",
    "# proportions of loan types for each type of loan\n",
    "print(train_values['loan_type'].value_counts())\n",
    "plt.figure(figsize=(15,5))\n",
    "plt.subplot(121)\n",
    "train_values['loan_type'].value_counts(normalize=True).plot(kind='bar', color='red')\n",
    "# plt.subplot(122)\n",
    "# sb.violinplot(x=train_values['loan_type'],orient='vertical')\n",
    "print('+-+-'*28)\n",
    "print('')\n",
    "print(\"A little above 74.2% of the loan applications constituted conventional loans i.e. any \\\n",
    "loan other than FHA, VA,FSA, or RHS loans. The Federal Housing Administration (FHA-insured) loan represnted a little \\\n",
    "above 16.5% and Veterans Administration (VA-guaranteed) loans, also formed about 7.9% of the total loan types. \\\n",
    "The Farm service Agency or Rural Housing Service (FSA/RHS) formed a little above 1.4% of the total loan applications.\")"
   ]
  },
  {
   "cell_type": "code",
   "execution_count": 11,
   "metadata": {},
   "outputs": [
    {
     "name": "stdout",
     "output_type": "stream",
     "text": [
      "1    478217\n",
      "2     19741\n",
      "3      2042\n",
      "Name: property_type, dtype: int64\n",
      "+-+-+-+-+-+-+-+-+-+-+-+-+-+-+-+-+-+-+-+-+-+-+-+-+-+-+-+-+-+-+-+-+-+-+-+-+-+-+-+-+-+-+-+-+-+-+-+-+-+-+-+-+-+-+-+-\n",
      "\n",
      "About 95.6% of the loan applications were for One to four-family dwelling (other than manufactured housing). Around 3.9% of the applications were for manufactured housing, 0.41 % for multifamily dwelling.\n"
     ]
    },
    {
     "data": {
      "image/png": "[encoded data removed]",
      "text/plain": [
       "<Figure size 1080x360 with 1 Axes>"
      ]
     },
     "metadata": {
      "needs_background": "light"
     },
     "output_type": "display_data"
    }
   ],
   "source": [
    "# proportions of property_type for each level of property\n",
    "# 1 -- One to four-family (other than manufactured housing). \n",
    "# 2 -- Manufactured housing. \n",
    "# 3 -- Multifamily.\n",
    "print(train_values['property_type'].value_counts())\n",
    "plt.figure(figsize=(15,5))\n",
    "plt.subplot(121)\n",
    "train_values['property_type'].value_counts(normalize=True).plot(kind='bar', color='red')\n",
    "# plt.subplot(122)\n",
    "# sb.violinplot(x=train_values['property_type'],orient='vertical')\n",
    "print('+-+-'*28)\n",
    "print('')\n",
    "print('About 95.6% of the loan applications were for One to four-family dwelling (other than manufactured housing). \\\n",
    "Around 3.9% of the applications were for manufactured housing, 0.41 % for multifamily dwelling.')"
   ]
  },
  {
   "cell_type": "code",
   "execution_count": 12,
   "metadata": {},
   "outputs": [
    {
     "name": "stdout",
     "output_type": "stream",
     "text": [
      "3    242670\n",
      "1    209265\n",
      "2     48065\n",
      "Name: loan_purpose, dtype: int64\n",
      "+-+-+-+-+-+-+-+-+-+-+-+-+-+-+-+-+-+-+-+-+-+-+-+-+-+-+-+-+-+-+-+-+-+-+-+-+-+-+-+-+-+-+-+-+-+-+-+-+-+-+-+-+-+-+-+-\n",
      "\n",
      "About 48.5% of loan applicants did apply for the loans for the purpose of refinancing other loans. Around 41.8% also  did so for the purpose of home purchasing, and a little below 9.6% applied for the loans to improve their homes.\n"
     ]
    },
    {
     "data": {
      "image/png": "[encoded data removed]",
      "text/plain": [
       "<Figure size 1080x360 with 1 Axes>"
      ]
     },
     "metadata": {
      "needs_background": "light"
     },
     "output_type": "display_data"
    }
   ],
   "source": [
    "# proportions of loan_purpose for each level of loan purpose\n",
    "# 1 -- Home purchase. \n",
    "# 2 -- Home improvement. \n",
    "# 3 -- Refinancing.\n",
    "# print(sorted(train_values['loan_purpose'].value_counts()))\n",
    "print(train_values['loan_purpose'].value_counts())\n",
    "plt.figure(figsize=(15,5))\n",
    "plt.subplot(121)\n",
    "train_values['loan_purpose'].value_counts(normalize=True).plot(kind='bar', color='red')\n",
    "# plt.subplot(122)\n",
    "# sb.violinplot(x=train_values['loan_purpose'],orient='vertical')\n",
    "print('+-+-'*28)\n",
    "print('')\n",
    "print('About 48.5% of loan applicants did apply for the loans for the purpose of refinancing other loans. \\\n",
    "Around 41.8% also  did so for the purpose of home purchasing, and a little below 9.6% applied for the loans \\\n",
    "to improve their homes.')"
   ]
  },
  {
   "cell_type": "code",
   "execution_count": 13,
   "metadata": {},
   "outputs": [
    {
     "name": "stdout",
     "output_type": "stream",
     "text": [
      "1    447394\n",
      "2     50417\n",
      "3      2189\n",
      "Name: occupancy, dtype: int64\n",
      "+-+-+-+-+-+-+-+-+-+-+-+-+-+-+-+-+-+-+-+-+-+-+-+-+-+-+-+-+-+-+-+-+-+-+-+-+-+-+-+-+-+-+-+-+-+-+-+-+-+-+-+-+-+-+-+-\n",
      "\n",
      "Over 89.5% of the loan applications related to properties in which the applicants occupied as their principal dwelling. 10.1% of the properties were not owner-occupied and a little below 0.44% of applicants do not relate with the properties, hence, not applicable.\n"
     ]
    },
    {
     "data": {
      "image/png": "[encoded data removed]",
      "text/plain": [
       "<Figure size 1080x360 with 1 Axes>"
      ]
     },
     "metadata": {
      "needs_background": "light"
     },
     "output_type": "display_data"
    }
   ],
   "source": [
    "# proportions of occupancy for each level occupancy\n",
    "# 1 -- Owner-occupied as a principal dwelling. \n",
    "# 2 -- Not owner-occupied. \n",
    "# 3 -- Not applicable.\n",
    "print(train_values['occupancy'].value_counts())\n",
    "plt.figure(figsize=(15,5))\n",
    "plt.subplot(121)\n",
    "train_values['occupancy'].value_counts(normalize=True).plot(kind='bar', color='red')\n",
    "# plt.subplot(122)\n",
    "# sb.violinplot(x=train_values['occupancy'],orient='vertical')\n",
    "print('+-+-'*28)\n",
    "print('')\n",
    "print('Over 89.5% of the loan applications related to properties in which the applicants occupied as their principal \\\n",
    "dwelling. 10.1% of the properties were not owner-occupied and a little below 0.44% of applicants do not relate with \\\n",
    "the properties, hence, not applicable.')\n"
   ]
  },
  {
   "cell_type": "code",
   "execution_count": 14,
   "metadata": {},
   "outputs": [
    {
     "name": "stdout",
     "output_type": "stream",
     "text": [
      "3    411109\n",
      "2     60143\n",
      "1     28748\n",
      "Name: preapproval, dtype: int64\n",
      "+-+-+-+-+-+-+-+-+-+-+-+-+-+-+-+-+-+-+-+-+-+-+-+-+-+-+-+-+-+-+-+-+-+-+-+-+-+-+-+-+-+-+-+-+-+-+-+-+-+-+-+-+-+-+-+-\n",
      "\n",
      "About 5.7% of loan applicants for home purchase loan did request for pre-approval. In about 12.0% of the applications no pre-approval was requested. No indication for pre-approval was shown by the majority of the applicants who represent about 82.2% of the applicants.\n"
     ]
    },
    {
     "data": {
      "image/png": "[encoded data removed]",
      "text/plain": [
       "<Figure size 1080x360 with 1 Axes>"
      ]
     },
     "metadata": {
      "needs_background": "light"
     },
     "output_type": "display_data"
    }
   ],
   "source": [
    "# proportions of preapproval for each level of the preapproval\n",
    "# 1 -- Preapproval was requested. \n",
    "# 2 -- Preapproval was not requested. \n",
    "# 3 -- Not applicable.\n",
    "print(train_values['preapproval'].value_counts())\n",
    "plt.figure(figsize=(15,5))\n",
    "plt.subplot(121)\n",
    "train_values['preapproval'].value_counts(normalize=True).plot(kind='bar', color='red')\n",
    "# plt.subplot(122)\n",
    "# sb.violinplot(x=train_values['preapproval'],orient='vertical')\n",
    "print('+-+-'*28)\n",
    "print('')\n",
    "print('About 5.7% of loan applicants for home purchase loan did request for pre-approval. In about 12.0% of the \\\n",
    "applications no pre-approval was requested. No indication for pre-approval was shown by the majority of the \\\n",
    "applicants who represent about 82.2% of the applicants.')"
   ]
  },
  {
   "cell_type": "code",
   "execution_count": 15,
   "metadata": {},
   "outputs": [
    {
     "name": "stdout",
     "output_type": "stream",
     "text": [
      "2    386061\n",
      "3     57298\n",
      "1     50822\n",
      "4      5819\n",
      "Name: applicant_ethnicity, dtype: int64\n",
      "+-+-+-+-+-+-+-+-+-+-+-+-+-+-+-+-+-+-+-+-+-+-+-+-+-+-+-+-+-+-+-+-+-+-+-+-+-+-+-+-+-+-+-+-+-+-+-+-+-+-+-+-+-+-+-+-\n",
      "\n",
      "About 77.2% of the loan applicants were neither Hispanic nor Latino. About 11.5% of the applicants did not provide information about their ethnicity either through their mail, internet or telephone applications. About 10.2% of applicants were either Hispanic or Latino and the remaining 1.2% of the applicants were not applicable\n"
     ]
    },
    {
     "data": {
      "image/png": "[encoded data removed]",
      "text/plain": [
       "<Figure size 1080x360 with 1 Axes>"
      ]
     },
     "metadata": {
      "needs_background": "light"
     },
     "output_type": "display_data"
    }
   ],
   "source": [
    "# proportions of applicant_ethnicity for each level of the applicant_ethnicity\n",
    "# 1 -- Hispanic or Latino. \n",
    "# 2 -- Not Hispanic or Latino. \n",
    "# 3 -- Information not provided by applicant in mail, Internet, or telephone pplication. \n",
    "# 4 -- Not applicable. \n",
    "print(train_values['applicant_ethnicity'].value_counts())\n",
    "plt.figure(figsize=(15,5))\n",
    "plt.subplot(121)\n",
    "train_values['applicant_ethnicity'].value_counts(normalize=True).plot(kind='bar', color='red')\n",
    "# plt.subplot(122)\n",
    "# sb.violinplot(x=train_values['applicant_ethnicity'],orient='vertical')\n",
    "print('+-+-'*28)\n",
    "print('')\n",
    "print('About 77.2% of the loan applicants were neither Hispanic nor Latino. About 11.5% of the applicants did not \\\n",
    "provide information about their ethnicity either through their mail, internet or telephone applications. \\\n",
    "About 10.2% of applicants were either Hispanic or Latino and the remaining 1.2% of the applicants were not \\\n",
    "applicable')"
   ]
  },
  {
   "cell_type": "code",
   "execution_count": 16,
   "metadata": {},
   "outputs": [
    {
     "name": "stdout",
     "output_type": "stream",
     "text": [
      "5    361538\n",
      "6     59862\n",
      "3     40495\n",
      "2     25756\n",
      "7      5678\n",
      "1      4332\n",
      "4      2339\n",
      "Name: applicant_race, dtype: int64\n",
      "+-+-+-+-+-+-+-+-+-+-+-+-+-+-+-+-+-+-+-+-+-+-+-+-+-+-+-+-+-+-+-+-+-+-+-+-+-+-+-+-+-+-+-+-+-+-+-+-+-+-+-+-+-+-+-+-\n",
      "\n",
      "Whites form the majority of loan applicants representing 72.3% of the loan applications. Blacks or African Americans follow next with about 8.1% of the loan applications. Asians constitute about 5.2% and native Hawaiian or other pacific Islanders forming about 0.5% of the total applicants. About 12.0% of loan applicants did not provide information about their race during their mail, internet or telephone applications.\n"
     ]
    },
    {
     "data": {
      "image/png": "[encoded data removed]",
      "text/plain": [
       "<Figure size 1080x360 with 1 Axes>"
      ]
     },
     "metadata": {
      "needs_background": "light"
     },
     "output_type": "display_data"
    }
   ],
   "source": [
    "# proportions of applicant_race for each level of the applicant_race\n",
    "# 1 -- American Indian or Alaska Native. \n",
    "# 2 -- Asian. \n",
    "# 3 -- Black or African American. \n",
    "# 4 -- Native Hawaiian or Other Pacific Islander. \n",
    "# 5 -- White. \n",
    "# 6 -- Information not provided by applicant in mail, Internet, or telephone application. \n",
    "# 7 -- Not applicable. \n",
    "# 8 -- No co-applicant.\n",
    "print(train_values['applicant_race'].value_counts())\n",
    "plt.figure(figsize=(15,5))\n",
    "plt.subplot(121)\n",
    "train_values['applicant_race'].value_counts(normalize=True).plot(kind='bar', color='red')\n",
    "# plt.subplot(122)\n",
    "# sb.violinplot(x=train_values['applicant_race'],orient='vertical')\n",
    "print('+-+-'*28)\n",
    "print('')\n",
    "print('Whites form the majority of loan applicants representing 72.3% of the loan applications. Blacks or African \\\n",
    "Americans follow next with about 8.1% of the loan applications. Asians constitute about 5.2% and native \\\n",
    "Hawaiian or other pacific Islanders forming about 0.5% of the total applicants. About 12.0% of loan applicants did \\\n",
    "not provide information about their race during their mail, internet or telephone applications.')\n"
   ]
  },
  {
   "cell_type": "code",
   "execution_count": 17,
   "metadata": {},
   "outputs": [
    {
     "name": "stdout",
     "output_type": "stream",
     "text": [
      "1    315806\n",
      "2    142876\n",
      "3     35643\n",
      "4      5675\n",
      "Name: applicant_sex, dtype: int64\n"
     ]
    },
    {
     "data": {
      "text/plain": [
       "<matplotlib.axes._subplots.AxesSubplot at 0x7fde9f0325f8>"
      ]
     },
     "execution_count": 17,
     "metadata": {},
     "output_type": "execute_result"
    },
    {
     "data": {
      "image/png": "[encoded data removed]",
      "text/plain": [
       "<Figure size 1080x360 with 1 Axes>"
      ]
     },
     "metadata": {
      "needs_background": "light"
     },
     "output_type": "display_data"
    }
   ],
   "source": [
    "print(train_values['applicant_sex'].value_counts())\n",
    "plt.figure(figsize=(15,5))\n",
    "plt.subplot(121)\n",
    "train_values['applicant_sex'].value_counts(normalize=True).plot(kind='bar', color='red')"
   ]
  },
  {
   "cell_type": "code",
   "execution_count": 18,
   "metadata": {},
   "outputs": [
    {
     "name": "stdout",
     "output_type": "stream",
     "text": [
      "False    299974\n",
      "True     200026\n",
      "Name: co_applicant, dtype: int64\n"
     ]
    },
    {
     "data": {
      "text/plain": [
       "<matplotlib.axes._subplots.AxesSubplot at 0x7fde9ee97780>"
      ]
     },
     "execution_count": 18,
     "metadata": {},
     "output_type": "execute_result"
    },
    {
     "data": {
      "image/png": "[encoded data removed]",
      "text/plain": [
       "<Figure size 1080x360 with 1 Axes>"
      ]
     },
     "metadata": {
      "needs_background": "light"
     },
     "output_type": "display_data"
    }
   ],
   "source": [
    "print(train_values['co_applicant'].value_counts())\n",
    "plt.figure(figsize=(15,5))\n",
    "plt.subplot(121)\n",
    "train_values['co_applicant'].value_counts(normalize=True).plot(kind='bar', color='red')"
   ]
  },
  {
   "cell_type": "markdown",
   "metadata": {},
   "source": [
    "### Univariate Analysis (Numeric features) Using unmodified train_values"
   ]
  },
  {
   "cell_type": "markdown",
   "metadata": {},
   "source": [
    "The numeric variables are:\n",
    "1. loan_amount\n",
    "2. applicant_income\n",
    "3. population\n",
    "4. minority_population_pct\n",
    "5. ffiecmedian_family_income\n",
    "6. tract_to_msa_md_income_pct\n",
    "7. number_of_owner-occupied_units\n",
    "8. number_of_1_to_4_family_units\n",
    "    \n",
    "        "
   ]
  },
  {
   "cell_type": "code",
   "execution_count": 20,
   "metadata": {},
   "outputs": [
    {
     "name": "stdout",
     "output_type": "stream",
     "text": [
      "count    500000.000000\n",
      "mean        221.753158\n",
      "std         590.641648\n",
      "min           1.000000\n",
      "25%          93.000000\n",
      "50%         162.000000\n",
      "75%         266.000000\n",
      "max      100878.000000\n",
      "Name: loan_amount, dtype: float64\n",
      "+++++++++++++++++++++++++++++++++++++++++++++\n"
     ]
    },
    {
     "data": {
      "image/png": "[encoded data removed]",
      "text/plain": [
       "<Figure size 1080x360 with 1 Axes>"
      ]
     },
     "metadata": {
      "needs_background": "light"
     },
     "output_type": "display_data"
    }
   ],
   "source": [
    "print(train_values['loan_amount'].describe())\n",
    "print('+++'*15)\n",
    "# print('+++'*15)\n",
    "# print(train_values['applicant_income'].describe())\n",
    "\n",
    "plt.figure(figsize=(15,5))\n",
    "# oan_amount\n",
    "# plt.subplot(122)\n",
    "# train_values['loan_amount'].plot.hist(range=(0,1000), color='red')\n",
    "# plt.xlabel('loan_amount')\n",
    "\n",
    "# plt.subplot(121)\n",
    "# train_values['loan_amount'].plot.hist(color='r')\n",
    "# plt.xlabel('loan_amount')\n",
    "\n",
    "plt.subplot(121)\n",
    "# applicant_income\n",
    "train_values['applicant_income'].plot.hist(color='r')\n",
    "plt.xlabel('applicant_income')\n",
    "\n",
    "plt.subplot(121)\n",
    "# applicant_income\n",
    "train_values['applicant_income'].plot.hist(range=(0,1000),color='r')\n",
    "plt.xlabel('applicant_income')\n",
    "\n",
    "plt.show()"
   ]
  },
  {
   "cell_type": "code",
   "execution_count": 21,
   "metadata": {},
   "outputs": [
    {
     "name": "stdout",
     "output_type": "stream",
     "text": [
      "count    477535.000000\n",
      "mean       5416.833956\n",
      "std        2728.144999\n",
      "min          14.000000\n",
      "25%        3744.000000\n",
      "50%        4975.000000\n",
      "75%        6467.000000\n",
      "max       37097.000000\n",
      "Name: population, dtype: float64\n",
      "+++++++++++++++++++++++++++++++++++++++++++++\n",
      "+++++++++++++++++++++++++++++++++++++++++++++\n",
      "count    477534.000000\n",
      "mean         31.617310\n",
      "std          26.333938\n",
      "min           0.534000\n",
      "25%          10.700000\n",
      "50%          22.901000\n",
      "75%          46.020000\n",
      "max         100.000000\n",
      "Name: minority_population_pct, dtype: float64\n"
     ]
    },
    {
     "data": {
      "image/png": "[encoded data removed]",
      "text/plain": [
       "<Figure size 1080x360 with 2 Axes>"
      ]
     },
     "metadata": {
      "needs_background": "light"
     },
     "output_type": "display_data"
    }
   ],
   "source": [
    "print(train_values['population'].describe())\n",
    "print('+++'*15)\n",
    "print('+++'*15)\n",
    "print(train_values['minority_population_pct'].describe())\n",
    "\n",
    "plt.figure(figsize=(15,5))\n",
    "# population\n",
    "plt.subplot(121)\n",
    "train_values['population'].plot.hist(color='blue')\n",
    "plt.xlabel('population')\n",
    "\n",
    "# minority_population_pct\n",
    "plt.subplot(122)\n",
    "train_values['minority_population_pct'].plot.hist(color='red')\n",
    "plt.xlabel('minority_population_pct')\n",
    "plt.show()"
   ]
  },
  {
   "cell_type": "code",
   "execution_count": 22,
   "metadata": {},
   "outputs": [
    {
     "name": "stdout",
     "output_type": "stream",
     "text": [
      "count    477560.000000\n",
      "mean      69235.603298\n",
      "std       14810.058791\n",
      "min       17858.000000\n",
      "25%       59731.000000\n",
      "50%       67526.000000\n",
      "75%       75351.000000\n",
      "max      125248.000000\n",
      "Name: ffiecmedian_family_income, dtype: float64\n",
      "+++++++++++++++++++++++++++++++++++++++++++++\n",
      "+++++++++++++++++++++++++++++++++++++++++++++\n",
      "count    477486.000000\n",
      "mean         91.832624\n",
      "std          14.210924\n",
      "min           3.981000\n",
      "25%          88.067250\n",
      "50%         100.000000\n",
      "75%         100.000000\n",
      "max         100.000000\n",
      "Name: tract_to_msa_md_income_pct, dtype: float64\n"
     ]
    },
    {
     "data": {
      "image/png": "[encoded data removed]",
      "text/plain": [
       "<Figure size 1080x360 with 1 Axes>"
      ]
     },
     "metadata": {
      "needs_background": "light"
     },
     "output_type": "display_data"
    }
   ],
   "source": [
    "print(train_values['ffiecmedian_family_income'].describe())\n",
    "print('+++'*15)\n",
    "print('+++'*15)\n",
    "print(train_values['tract_to_msa_md_income_pct'].describe())\n",
    "\n",
    "plt.figure(figsize=(15,5))\n",
    "# ffiecmedian_family_income\n",
    "# plt.subplot(121)\n",
    "# train_values['ffiecmedian_family_income'].plot.hist(color='blue')\n",
    "# plt.xlabel('ffiecmedian_family_income')\n",
    "\n",
    "# tract_to_msa_md_income_pct\n",
    "plt.subplot(122)\n",
    "train_values['tract_to_msa_md_income_pct'].plot.hist(color='red')\n",
    "plt.xlabel('tract_to_msa_md_income_pct')\n",
    "plt.show()"
   ]
  },
  {
   "cell_type": "code",
   "execution_count": 23,
   "metadata": {},
   "outputs": [
    {
     "name": "stdout",
     "output_type": "stream",
     "text": [
      "count    477435.000000\n",
      "mean       1427.718282\n",
      "std         737.559511\n",
      "min           4.000000\n",
      "25%         944.000000\n",
      "50%        1327.000000\n",
      "75%        1780.000000\n",
      "max        8771.000000\n",
      "Name: number_of_owner-occupied_units, dtype: float64\n",
      "++++++++++++++++++++++++++++++++++++++++++++++++++++++\n",
      "++++++++++++++++++++++++++++++++++++++++++++++++++++++\n",
      "count    477470.000000\n",
      "mean       1886.147065\n",
      "std         914.123744\n",
      "min           1.000000\n",
      "25%        1301.000000\n",
      "50%        1753.000000\n",
      "75%        2309.000000\n",
      "max       13623.000000\n",
      "Name: number_of_1_to_4_family_units, dtype: float64\n"
     ]
    },
    {
     "data": {
      "image/png": "[encoded data removed]",
      "text/plain": [
       "<Figure size 1080x360 with 2 Axes>"
      ]
     },
     "metadata": {
      "needs_background": "light"
     },
     "output_type": "display_data"
    }
   ],
   "source": [
    "print(train_values['number_of_owner-occupied_units'].describe())\n",
    "print('+++'*18)\n",
    "print('+++'*18)\n",
    "print(train_values['number_of_1_to_4_family_units'].describe())\n",
    "\n",
    "plt.figure(figsize=(15,5))\n",
    "# number_of_owner-occupied_units\n",
    "plt.subplot(121)\n",
    "train_values['number_of_owner-occupied_units'].plot.hist(color='blue')\n",
    "plt.xlabel('number_of_owner-occupied_units')\n",
    "\n",
    "plt.subplot(122)\n",
    "# number_of_1_to_4_family_units\n",
    "train_values['number_of_1_to_4_family_units'].plot.hist(color='red')\n",
    "plt.xlabel('number_of_1_to_4_family_units')\n",
    "plt.show()"
   ]
  },
  {
   "cell_type": "markdown",
   "metadata": {},
   "source": [
    "### Bivariate Analysis Using the merged Data\n",
    "\n",
    "Since the training values and training labels are separated, we will merge the two and make a new dataframe. We will be using the row_id as the key."
   ]
  },
  {
   "cell_type": "code",
   "execution_count": 24,
   "metadata": {},
   "outputs": [
    {
     "data": {
      "text/plain": [
       "(500000, 22)"
      ]
     },
     "execution_count": 24,
     "metadata": {},
     "output_type": "execute_result"
    }
   ],
   "source": [
    "# merging our training values with the training labels using row id as ur key\n",
    "DF = train_values.merge(train_labels,left_on='row_id',right_on='row_id',how='left')\n",
    "# create a copy of the merged data and work\n",
    "df = DF.copy()\n",
    "df.shape"
   ]
  },
  {
   "cell_type": "markdown",
   "metadata": {},
   "source": [
    "#### Loan acceptance rates across ethnicity and gender"
   ]
  },
  {
   "cell_type": "code",
   "execution_count": 25,
   "metadata": {},
   "outputs": [
    {
     "name": "stdout",
     "output_type": "stream",
     "text": [
      "accepted                  0       1\n",
      "applicant_ethnicity                \n",
      "1                     29100   21722\n",
      "2                    185109  200952\n",
      "3                     34451   22847\n",
      "4                      1226    4593\n",
      "+++++++++++++++++++++++++++++++++++++++++++++++++++++++++++++++++++++++++++++++++++++++++++++++++++++++++\n",
      "Applicants whose ethinicity was 'Not applicable' (where applicant_ethnicity= 4) have a higher loan acceptance rate on average than Hispanic or Latino (where applicant_ethnicity= 1).\n"
     ]
    },
    {
     "data": {
      "image/png": "[encoded data removed]",
      "text/plain": [
       "<Figure size 648x360 with 1 Axes>"
      ]
     },
     "metadata": {
      "needs_background": "light"
     },
     "output_type": "display_data"
    }
   ],
   "source": [
    "print(pd.crosstab(df['applicant_ethnicity'],df['accepted']))\n",
    "ethnicity = pd.crosstab(df['applicant_ethnicity'],df['accepted'])\n",
    "ethnicity.div(ethnicity.sum(1).astype(float), axis=0).plot(kind=\"bar\", stacked=False, figsize=(9,5))\n",
    "plt.xlabel('applicant_ethnicity')\n",
    "p = plt.ylabel('Percentage')\n",
    "print('+++'*35)\n",
    "\n",
    "print(\"Applicants whose ethinicity was 'Not applicable' (where applicant_ethnicity= 4) have a higher loan acceptance rate on average than Hispanic or Latino (where applicant_ethnicity= 1).\")"
   ]
  },
  {
   "cell_type": "code",
   "execution_count": 26,
   "metadata": {},
   "outputs": [
    {
     "name": "stdout",
     "output_type": "stream",
     "text": [
      "accepted            0       1\n",
      "applicant_sex                \n",
      "1              151327  164479\n",
      "2               76231   66645\n",
      "3               21170   14473\n",
      "4                1158    4517\n",
      "--------------------------------------------------------------------------------------------------------------\n",
      "\n",
      "Male appliants (where applicant_sex=1) have a higher loan acceptance rate on average than female applicants (where applicant_sex=2).\n"
     ]
    },
    {
     "data": {
      "image/png": "[encoded data removed]",
      "text/plain": [
       "<Figure size 648x360 with 1 Axes>"
      ]
     },
     "metadata": {
      "needs_background": "light"
     },
     "output_type": "display_data"
    }
   ],
   "source": [
    "print(pd.crosstab(df['applicant_sex'],df['accepted']))\n",
    "gender = pd.crosstab(df['applicant_sex'],df['accepted'])\n",
    "gender.div(gender.sum(1).astype(float), axis=0).plot(kind=\"bar\", stacked=False, figsize=(9,5))\n",
    "plt.xlabel('applicant_sex')\n",
    "plt.ylabel('Percentage')\n",
    "print('--'*55)\n",
    "print('')\n",
    "print('Male appliants (where applicant_sex=1) have a higher loan acceptance rate on average than female \\\n",
    "applicants (where applicant_sex=2).')"
   ]
  },
  {
   "cell_type": "code",
   "execution_count": 27,
   "metadata": {},
   "outputs": [
    {
     "name": "stdout",
     "output_type": "stream",
     "text": [
      "accepted             0       1\n",
      "applicant_race                \n",
      "1                 2877    1455\n",
      "2                11930   13826\n",
      "3                27318   13177\n",
      "4                 1356     983\n",
      "5               169230  192308\n",
      "6                36012   23850\n",
      "7                 1163    4515\n",
      "--------------------------------------------------------------------------------------------------------------\n",
      "\n"
     ]
    },
    {
     "data": {
      "image/png": "[encoded data removed]",
      "text/plain": [
       "<Figure size 648x360 with 1 Axes>"
      ]
     },
     "metadata": {
      "needs_background": "light"
     },
     "output_type": "display_data"
    }
   ],
   "source": [
    "print(pd.crosstab(df['applicant_race'],df['accepted']))\n",
    "race = pd.crosstab(df['applicant_race'],df['accepted'])\n",
    "race.div(race.sum(1).astype(float), axis=0).plot(kind=\"bar\", stacked=False, figsize=(9,5))\n",
    "plt.xlabel('applicant_race')\n",
    "plt.ylabel('Percentage')\n",
    "print('--'*55)\n",
    "print('')\n",
    "# print('Male appliants (where applicant_race=1) have a higher loan acceptance rate on average than female \\\n",
    "# applicants (where applicant_sex=2).')"
   ]
  },
  {
   "cell_type": "markdown",
   "metadata": {},
   "source": [
    "#### Applicant income and loan amount"
   ]
  },
  {
   "cell_type": "code",
   "execution_count": 28,
   "metadata": {},
   "outputs": [
    {
     "name": "stdout",
     "output_type": "stream",
     "text": [
      "(4638, 22)\n"
     ]
    }
   ],
   "source": [
    "# Applicant income and loan amount for only applicants in state 45\n",
    "df1 = df[df['state_code'] == 45]\n",
    "print(df1.shape)\n",
    "# df1.head()"
   ]
  },
  {
   "cell_type": "code",
   "execution_count": 29,
   "metadata": {},
   "outputs": [
    {
     "name": "stdout",
     "output_type": "stream",
     "text": [
      "The correlation between applicant_income and loan_amount is 0.63\n",
      " A higher applicant income is associated with a higher loan amount, on average..\n"
     ]
    },
    {
     "data": {
      "image/png": "[encoded data removed]",
      "text/plain": [
       "<Figure size 648x360 with 1 Axes>"
      ]
     },
     "metadata": {
      "needs_background": "light"
     },
     "output_type": "display_data"
    }
   ],
   "source": [
    "# Regression plot to show the relationship between the two features\n",
    "plt.figure(figsize=(9,5))\n",
    "sb.regplot(x='applicant_income',y='loan_amount',data=df1)\n",
    "print('The correlation between applicant_income and loan_amount is {:0.2f}'.format(df1['applicant_income'].\\\n",
    "                                                                                   corr(df1['loan_amount'])))\n",
    "print(' A higher applicant income is associated with a higher loan amount, on average..')"
   ]
  },
  {
   "cell_type": "markdown",
   "metadata": {},
   "source": [
    "#### Loan acceptance across counties in state 48"
   ]
  },
  {
   "cell_type": "code",
   "execution_count": 30,
   "metadata": {},
   "outputs": [
    {
     "name": "stdout",
     "output_type": "stream",
     "text": [
      "(15711, 22)\n"
     ]
    }
   ],
   "source": [
    "# Loan acceptance across counties limiting just to state 48 and ignoring where county is missing \n",
    "# (missing value being -1)\n",
    "df2 = df[(df['state_code']==48) & (df['county_code'] != -1)]\n",
    "print(df2.shape)\n",
    "# df2.head()"
   ]
  },
  {
   "cell_type": "code",
   "execution_count": 31,
   "metadata": {},
   "outputs": [
    {
     "data": {
      "text/plain": [
       "array([[<matplotlib.axes._subplots.AxesSubplot object at 0x7fde9efb2358>]],\n",
       "      dtype=object)"
      ]
     },
     "execution_count": 31,
     "metadata": {},
     "output_type": "execute_result"
    },
    {
     "data": {
      "image/png": "[encoded data removed]",
      "text/plain": [
       "<Figure size 432x288 with 1 Axes>"
      ]
     },
     "metadata": {
      "needs_background": "light"
     },
     "output_type": "display_data"
    }
   ],
   "source": [
    "df2.hist(\n",
    "    column='lender'\n",
    "       )"
   ]
  },
  {
   "cell_type": "code",
   "execution_count": null,
   "metadata": {},
   "outputs": [
    {
     "ename": "KeyboardInterrupt",
     "evalue": "",
     "output_type": "error",
     "traceback": [
      "\u001b[0;31m---------------------------------------------------------------------------\u001b[0m",
      "\u001b[0;31mKeyboardInterrupt\u001b[0m                         Traceback (most recent call last)",
      "\u001b[0;32m<ipython-input-32-22a468dbab02>\u001b[0m in \u001b[0;36m<module>\u001b[0;34m\u001b[0m\n\u001b[1;32m      1\u001b[0m \u001b[0;31m# print(pd.crosstab(df2['state_code'],df2['accepted']).T)\u001b[0m\u001b[0;34m\u001b[0m\u001b[0;34m\u001b[0m\u001b[0;34m\u001b[0m\u001b[0m\n\u001b[1;32m      2\u001b[0m \u001b[0mcounty\u001b[0m \u001b[0;34m=\u001b[0m \u001b[0mpd\u001b[0m\u001b[0;34m.\u001b[0m\u001b[0mcrosstab\u001b[0m\u001b[0;34m(\u001b[0m\u001b[0mdf\u001b[0m\u001b[0;34m[\u001b[0m\u001b[0;34m'accepted'\u001b[0m\u001b[0;34m]\u001b[0m\u001b[0;34m,\u001b[0m\u001b[0mdf\u001b[0m\u001b[0;34m[\u001b[0m\u001b[0;34m'lender'\u001b[0m\u001b[0;34m]\u001b[0m\u001b[0;34m)\u001b[0m\u001b[0;34m\u001b[0m\u001b[0;34m\u001b[0m\u001b[0m\n\u001b[0;32m----> 3\u001b[0;31m \u001b[0mcounty\u001b[0m\u001b[0;34m.\u001b[0m\u001b[0mdiv\u001b[0m\u001b[0;34m(\u001b[0m\u001b[0mcounty\u001b[0m\u001b[0;34m.\u001b[0m\u001b[0msum\u001b[0m\u001b[0;34m(\u001b[0m\u001b[0;36m1\u001b[0m\u001b[0;34m)\u001b[0m\u001b[0;34m.\u001b[0m\u001b[0mastype\u001b[0m\u001b[0;34m(\u001b[0m\u001b[0mfloat\u001b[0m\u001b[0;34m)\u001b[0m\u001b[0;34m,\u001b[0m \u001b[0maxis\u001b[0m\u001b[0;34m=\u001b[0m\u001b[0;36m0\u001b[0m\u001b[0;34m)\u001b[0m\u001b[0;34m.\u001b[0m\u001b[0mplot\u001b[0m\u001b[0;34m(\u001b[0m\u001b[0mkind\u001b[0m\u001b[0;34m=\u001b[0m\u001b[0;34m\"bar\"\u001b[0m\u001b[0;34m,\u001b[0m \u001b[0mstacked\u001b[0m\u001b[0;34m=\u001b[0m\u001b[0;32mTrue\u001b[0m\u001b[0;34m,\u001b[0m \u001b[0mfigsize\u001b[0m\u001b[0;34m=\u001b[0m\u001b[0;34m(\u001b[0m\u001b[0;36m15\u001b[0m\u001b[0;34m,\u001b[0m\u001b[0;36m6\u001b[0m\u001b[0;34m)\u001b[0m\u001b[0;34m)\u001b[0m\u001b[0;34m\u001b[0m\u001b[0;34m\u001b[0m\u001b[0m\n\u001b[0m\u001b[1;32m      4\u001b[0m \u001b[0mplt\u001b[0m\u001b[0;34m.\u001b[0m\u001b[0mxlabel\u001b[0m\u001b[0;34m(\u001b[0m\u001b[0;34m'loan_purpose'\u001b[0m\u001b[0;34m)\u001b[0m\u001b[0;34m\u001b[0m\u001b[0;34m\u001b[0m\u001b[0m\n\u001b[1;32m      5\u001b[0m \u001b[0mp\u001b[0m \u001b[0;34m=\u001b[0m \u001b[0mplt\u001b[0m\u001b[0;34m.\u001b[0m\u001b[0mylabel\u001b[0m\u001b[0;34m(\u001b[0m\u001b[0;34m'Percentage'\u001b[0m\u001b[0;34m)\u001b[0m\u001b[0;34m\u001b[0m\u001b[0;34m\u001b[0m\u001b[0m\n",
      "\u001b[0;32m~/.local/lib/python3.7/site-packages/pandas/plotting/_core.py\u001b[0m in \u001b[0;36m__call__\u001b[0;34m(self, x, y, kind, ax, subplots, sharex, sharey, layout, figsize, use_index, title, grid, legend, style, logx, logy, loglog, xticks, yticks, xlim, ylim, rot, fontsize, colormap, table, yerr, xerr, secondary_y, sort_columns, **kwds)\u001b[0m\n\u001b[1;32m   2940\u001b[0m                           \u001b[0mfontsize\u001b[0m\u001b[0;34m=\u001b[0m\u001b[0mfontsize\u001b[0m\u001b[0;34m,\u001b[0m \u001b[0mcolormap\u001b[0m\u001b[0;34m=\u001b[0m\u001b[0mcolormap\u001b[0m\u001b[0;34m,\u001b[0m \u001b[0mtable\u001b[0m\u001b[0;34m=\u001b[0m\u001b[0mtable\u001b[0m\u001b[0;34m,\u001b[0m\u001b[0;34m\u001b[0m\u001b[0;34m\u001b[0m\u001b[0m\n\u001b[1;32m   2941\u001b[0m                           \u001b[0myerr\u001b[0m\u001b[0;34m=\u001b[0m\u001b[0myerr\u001b[0m\u001b[0;34m,\u001b[0m \u001b[0mxerr\u001b[0m\u001b[0;34m=\u001b[0m\u001b[0mxerr\u001b[0m\u001b[0;34m,\u001b[0m \u001b[0msecondary_y\u001b[0m\u001b[0;34m=\u001b[0m\u001b[0msecondary_y\u001b[0m\u001b[0;34m,\u001b[0m\u001b[0;34m\u001b[0m\u001b[0;34m\u001b[0m\u001b[0m\n\u001b[0;32m-> 2942\u001b[0;31m                           sort_columns=sort_columns, **kwds)\n\u001b[0m\u001b[1;32m   2943\u001b[0m     \u001b[0m__call__\u001b[0m\u001b[0;34m.\u001b[0m\u001b[0m__doc__\u001b[0m \u001b[0;34m=\u001b[0m \u001b[0mplot_frame\u001b[0m\u001b[0;34m.\u001b[0m\u001b[0m__doc__\u001b[0m\u001b[0;34m\u001b[0m\u001b[0;34m\u001b[0m\u001b[0m\n\u001b[1;32m   2944\u001b[0m \u001b[0;34m\u001b[0m\u001b[0m\n",
      "\u001b[0;32m~/.local/lib/python3.7/site-packages/pandas/plotting/_core.py\u001b[0m in \u001b[0;36mplot_frame\u001b[0;34m(data, x, y, kind, ax, subplots, sharex, sharey, layout, figsize, use_index, title, grid, legend, style, logx, logy, loglog, xticks, yticks, xlim, ylim, rot, fontsize, colormap, table, yerr, xerr, secondary_y, sort_columns, **kwds)\u001b[0m\n\u001b[1;32m   1971\u001b[0m                  \u001b[0myerr\u001b[0m\u001b[0;34m=\u001b[0m\u001b[0myerr\u001b[0m\u001b[0;34m,\u001b[0m \u001b[0mxerr\u001b[0m\u001b[0;34m=\u001b[0m\u001b[0mxerr\u001b[0m\u001b[0;34m,\u001b[0m\u001b[0;34m\u001b[0m\u001b[0;34m\u001b[0m\u001b[0m\n\u001b[1;32m   1972\u001b[0m                  \u001b[0msecondary_y\u001b[0m\u001b[0;34m=\u001b[0m\u001b[0msecondary_y\u001b[0m\u001b[0;34m,\u001b[0m \u001b[0msort_columns\u001b[0m\u001b[0;34m=\u001b[0m\u001b[0msort_columns\u001b[0m\u001b[0;34m,\u001b[0m\u001b[0;34m\u001b[0m\u001b[0;34m\u001b[0m\u001b[0m\n\u001b[0;32m-> 1973\u001b[0;31m                  **kwds)\n\u001b[0m\u001b[1;32m   1974\u001b[0m \u001b[0;34m\u001b[0m\u001b[0m\n\u001b[1;32m   1975\u001b[0m \u001b[0;34m\u001b[0m\u001b[0m\n",
      "\u001b[0;32m~/.local/lib/python3.7/site-packages/pandas/plotting/_core.py\u001b[0m in \u001b[0;36m_plot\u001b[0;34m(data, x, y, subplots, ax, kind, **kwds)\u001b[0m\n\u001b[1;32m   1799\u001b[0m         \u001b[0mplot_obj\u001b[0m \u001b[0;34m=\u001b[0m \u001b[0mklass\u001b[0m\u001b[0;34m(\u001b[0m\u001b[0mdata\u001b[0m\u001b[0;34m,\u001b[0m \u001b[0msubplots\u001b[0m\u001b[0;34m=\u001b[0m\u001b[0msubplots\u001b[0m\u001b[0;34m,\u001b[0m \u001b[0max\u001b[0m\u001b[0;34m=\u001b[0m\u001b[0max\u001b[0m\u001b[0;34m,\u001b[0m \u001b[0mkind\u001b[0m\u001b[0;34m=\u001b[0m\u001b[0mkind\u001b[0m\u001b[0;34m,\u001b[0m \u001b[0;34m**\u001b[0m\u001b[0mkwds\u001b[0m\u001b[0;34m)\u001b[0m\u001b[0;34m\u001b[0m\u001b[0;34m\u001b[0m\u001b[0m\n\u001b[1;32m   1800\u001b[0m \u001b[0;34m\u001b[0m\u001b[0m\n\u001b[0;32m-> 1801\u001b[0;31m     \u001b[0mplot_obj\u001b[0m\u001b[0;34m.\u001b[0m\u001b[0mgenerate\u001b[0m\u001b[0;34m(\u001b[0m\u001b[0;34m)\u001b[0m\u001b[0;34m\u001b[0m\u001b[0;34m\u001b[0m\u001b[0m\n\u001b[0m\u001b[1;32m   1802\u001b[0m     \u001b[0mplot_obj\u001b[0m\u001b[0;34m.\u001b[0m\u001b[0mdraw\u001b[0m\u001b[0;34m(\u001b[0m\u001b[0;34m)\u001b[0m\u001b[0;34m\u001b[0m\u001b[0;34m\u001b[0m\u001b[0m\n\u001b[1;32m   1803\u001b[0m     \u001b[0;32mreturn\u001b[0m \u001b[0mplot_obj\u001b[0m\u001b[0;34m.\u001b[0m\u001b[0mresult\u001b[0m\u001b[0;34m\u001b[0m\u001b[0;34m\u001b[0m\u001b[0m\n",
      "\u001b[0;32m~/.local/lib/python3.7/site-packages/pandas/plotting/_core.py\u001b[0m in \u001b[0;36mgenerate\u001b[0;34m(self)\u001b[0m\n\u001b[1;32m    249\u001b[0m         \u001b[0mself\u001b[0m\u001b[0;34m.\u001b[0m\u001b[0m_compute_plot_data\u001b[0m\u001b[0;34m(\u001b[0m\u001b[0;34m)\u001b[0m\u001b[0;34m\u001b[0m\u001b[0;34m\u001b[0m\u001b[0m\n\u001b[1;32m    250\u001b[0m         \u001b[0mself\u001b[0m\u001b[0;34m.\u001b[0m\u001b[0m_setup_subplots\u001b[0m\u001b[0;34m(\u001b[0m\u001b[0;34m)\u001b[0m\u001b[0;34m\u001b[0m\u001b[0;34m\u001b[0m\u001b[0m\n\u001b[0;32m--> 251\u001b[0;31m         \u001b[0mself\u001b[0m\u001b[0;34m.\u001b[0m\u001b[0m_make_plot\u001b[0m\u001b[0;34m(\u001b[0m\u001b[0;34m)\u001b[0m\u001b[0;34m\u001b[0m\u001b[0;34m\u001b[0m\u001b[0m\n\u001b[0m\u001b[1;32m    252\u001b[0m         \u001b[0mself\u001b[0m\u001b[0;34m.\u001b[0m\u001b[0m_add_table\u001b[0m\u001b[0;34m(\u001b[0m\u001b[0;34m)\u001b[0m\u001b[0;34m\u001b[0m\u001b[0;34m\u001b[0m\u001b[0m\n\u001b[1;32m    253\u001b[0m         \u001b[0mself\u001b[0m\u001b[0;34m.\u001b[0m\u001b[0m_make_legend\u001b[0m\u001b[0;34m(\u001b[0m\u001b[0;34m)\u001b[0m\u001b[0;34m\u001b[0m\u001b[0;34m\u001b[0m\u001b[0m\n",
      "\u001b[0;32m~/.local/lib/python3.7/site-packages/pandas/plotting/_core.py\u001b[0m in \u001b[0;36m_make_plot\u001b[0;34m(self)\u001b[0m\n\u001b[1;32m   1255\u001b[0m                 rect = self._plot(ax, self.ax_pos + w, y, self.bar_width,\n\u001b[1;32m   1256\u001b[0m                                   \u001b[0mstart\u001b[0m\u001b[0;34m=\u001b[0m\u001b[0mstart\u001b[0m\u001b[0;34m,\u001b[0m \u001b[0mlabel\u001b[0m\u001b[0;34m=\u001b[0m\u001b[0mlabel\u001b[0m\u001b[0;34m,\u001b[0m\u001b[0;34m\u001b[0m\u001b[0;34m\u001b[0m\u001b[0m\n\u001b[0;32m-> 1257\u001b[0;31m                                   log=self.log, **kwds)\n\u001b[0m\u001b[1;32m   1258\u001b[0m                 \u001b[0mpos_prior\u001b[0m \u001b[0;34m=\u001b[0m \u001b[0mpos_prior\u001b[0m \u001b[0;34m+\u001b[0m \u001b[0mnp\u001b[0m\u001b[0;34m.\u001b[0m\u001b[0mwhere\u001b[0m\u001b[0;34m(\u001b[0m\u001b[0mmask\u001b[0m\u001b[0;34m,\u001b[0m \u001b[0my\u001b[0m\u001b[0;34m,\u001b[0m \u001b[0;36m0\u001b[0m\u001b[0;34m)\u001b[0m\u001b[0;34m\u001b[0m\u001b[0;34m\u001b[0m\u001b[0m\n\u001b[1;32m   1259\u001b[0m                 \u001b[0mneg_prior\u001b[0m \u001b[0;34m=\u001b[0m \u001b[0mneg_prior\u001b[0m \u001b[0;34m+\u001b[0m \u001b[0mnp\u001b[0m\u001b[0;34m.\u001b[0m\u001b[0mwhere\u001b[0m\u001b[0;34m(\u001b[0m\u001b[0mmask\u001b[0m\u001b[0;34m,\u001b[0m \u001b[0;36m0\u001b[0m\u001b[0;34m,\u001b[0m \u001b[0my\u001b[0m\u001b[0;34m)\u001b[0m\u001b[0;34m\u001b[0m\u001b[0;34m\u001b[0m\u001b[0m\n",
      "\u001b[0;32m~/.local/lib/python3.7/site-packages/pandas/plotting/_core.py\u001b[0m in \u001b[0;36m_plot\u001b[0;34m(cls, ax, x, y, w, start, log, **kwds)\u001b[0m\n\u001b[1;32m   1206\u001b[0m     \u001b[0;34m@\u001b[0m\u001b[0mclassmethod\u001b[0m\u001b[0;34m\u001b[0m\u001b[0;34m\u001b[0m\u001b[0m\n\u001b[1;32m   1207\u001b[0m     \u001b[0;32mdef\u001b[0m \u001b[0m_plot\u001b[0m\u001b[0;34m(\u001b[0m\u001b[0mcls\u001b[0m\u001b[0;34m,\u001b[0m \u001b[0max\u001b[0m\u001b[0;34m,\u001b[0m \u001b[0mx\u001b[0m\u001b[0;34m,\u001b[0m \u001b[0my\u001b[0m\u001b[0;34m,\u001b[0m \u001b[0mw\u001b[0m\u001b[0;34m,\u001b[0m \u001b[0mstart\u001b[0m\u001b[0;34m=\u001b[0m\u001b[0;36m0\u001b[0m\u001b[0;34m,\u001b[0m \u001b[0mlog\u001b[0m\u001b[0;34m=\u001b[0m\u001b[0;32mFalse\u001b[0m\u001b[0;34m,\u001b[0m \u001b[0;34m**\u001b[0m\u001b[0mkwds\u001b[0m\u001b[0;34m)\u001b[0m\u001b[0;34m:\u001b[0m\u001b[0;34m\u001b[0m\u001b[0;34m\u001b[0m\u001b[0m\n\u001b[0;32m-> 1208\u001b[0;31m         \u001b[0;32mreturn\u001b[0m \u001b[0max\u001b[0m\u001b[0;34m.\u001b[0m\u001b[0mbar\u001b[0m\u001b[0;34m(\u001b[0m\u001b[0mx\u001b[0m\u001b[0;34m,\u001b[0m \u001b[0my\u001b[0m\u001b[0;34m,\u001b[0m \u001b[0mw\u001b[0m\u001b[0;34m,\u001b[0m \u001b[0mbottom\u001b[0m\u001b[0;34m=\u001b[0m\u001b[0mstart\u001b[0m\u001b[0;34m,\u001b[0m \u001b[0mlog\u001b[0m\u001b[0;34m=\u001b[0m\u001b[0mlog\u001b[0m\u001b[0;34m,\u001b[0m \u001b[0;34m**\u001b[0m\u001b[0mkwds\u001b[0m\u001b[0;34m)\u001b[0m\u001b[0;34m\u001b[0m\u001b[0;34m\u001b[0m\u001b[0m\n\u001b[0m\u001b[1;32m   1209\u001b[0m \u001b[0;34m\u001b[0m\u001b[0m\n\u001b[1;32m   1210\u001b[0m     \u001b[0;34m@\u001b[0m\u001b[0mproperty\u001b[0m\u001b[0;34m\u001b[0m\u001b[0;34m\u001b[0m\u001b[0m\n",
      "\u001b[0;32m~/anaconda3/lib/python3.7/site-packages/matplotlib/__init__.py\u001b[0m in \u001b[0;36minner\u001b[0;34m(ax, data, *args, **kwargs)\u001b[0m\n\u001b[1;32m   1808\u001b[0m                         \u001b[0;34m\"the Matplotlib list!)\"\u001b[0m \u001b[0;34m%\u001b[0m \u001b[0;34m(\u001b[0m\u001b[0mlabel_namer\u001b[0m\u001b[0;34m,\u001b[0m \u001b[0mfunc\u001b[0m\u001b[0;34m.\u001b[0m\u001b[0m__name__\u001b[0m\u001b[0;34m)\u001b[0m\u001b[0;34m,\u001b[0m\u001b[0;34m\u001b[0m\u001b[0;34m\u001b[0m\u001b[0m\n\u001b[1;32m   1809\u001b[0m                         RuntimeWarning, stacklevel=2)\n\u001b[0;32m-> 1810\u001b[0;31m             \u001b[0;32mreturn\u001b[0m \u001b[0mfunc\u001b[0m\u001b[0;34m(\u001b[0m\u001b[0max\u001b[0m\u001b[0;34m,\u001b[0m \u001b[0;34m*\u001b[0m\u001b[0margs\u001b[0m\u001b[0;34m,\u001b[0m \u001b[0;34m**\u001b[0m\u001b[0mkwargs\u001b[0m\u001b[0;34m)\u001b[0m\u001b[0;34m\u001b[0m\u001b[0;34m\u001b[0m\u001b[0m\n\u001b[0m\u001b[1;32m   1811\u001b[0m \u001b[0;34m\u001b[0m\u001b[0m\n\u001b[1;32m   1812\u001b[0m         inner.__doc__ = _add_data_doc(inner.__doc__,\n",
      "\u001b[0;32m~/anaconda3/lib/python3.7/site-packages/matplotlib/axes/_axes.py\u001b[0m in \u001b[0;36mbar\u001b[0;34m(self, x, height, width, bottom, align, **kwargs)\u001b[0m\n\u001b[1;32m   2339\u001b[0m             \u001b[0mymin\u001b[0m \u001b[0;34m=\u001b[0m \u001b[0mmax\u001b[0m\u001b[0;34m(\u001b[0m\u001b[0mymin\u001b[0m \u001b[0;34m*\u001b[0m \u001b[0;36m0.9\u001b[0m\u001b[0;34m,\u001b[0m \u001b[0;36m1e-100\u001b[0m\u001b[0;34m)\u001b[0m\u001b[0;34m\u001b[0m\u001b[0;34m\u001b[0m\u001b[0m\n\u001b[1;32m   2340\u001b[0m             \u001b[0mself\u001b[0m\u001b[0;34m.\u001b[0m\u001b[0mdataLim\u001b[0m\u001b[0;34m.\u001b[0m\u001b[0mintervaly\u001b[0m \u001b[0;34m=\u001b[0m \u001b[0;34m(\u001b[0m\u001b[0mymin\u001b[0m\u001b[0;34m,\u001b[0m \u001b[0mymax\u001b[0m\u001b[0;34m)\u001b[0m\u001b[0;34m\u001b[0m\u001b[0;34m\u001b[0m\u001b[0m\n\u001b[0;32m-> 2341\u001b[0;31m         \u001b[0mself\u001b[0m\u001b[0;34m.\u001b[0m\u001b[0mautoscale_view\u001b[0m\u001b[0;34m(\u001b[0m\u001b[0;34m)\u001b[0m\u001b[0;34m\u001b[0m\u001b[0;34m\u001b[0m\u001b[0m\n\u001b[0m\u001b[1;32m   2342\u001b[0m \u001b[0;34m\u001b[0m\u001b[0m\n\u001b[1;32m   2343\u001b[0m         \u001b[0mbar_container\u001b[0m \u001b[0;34m=\u001b[0m \u001b[0mBarContainer\u001b[0m\u001b[0;34m(\u001b[0m\u001b[0mpatches\u001b[0m\u001b[0;34m,\u001b[0m \u001b[0merrorbar\u001b[0m\u001b[0;34m,\u001b[0m \u001b[0mlabel\u001b[0m\u001b[0;34m=\u001b[0m\u001b[0mlabel\u001b[0m\u001b[0;34m)\u001b[0m\u001b[0;34m\u001b[0m\u001b[0;34m\u001b[0m\u001b[0m\n",
      "\u001b[0;32m~/anaconda3/lib/python3.7/site-packages/matplotlib/axes/_base.py\u001b[0m in \u001b[0;36mautoscale_view\u001b[0;34m(self, tight, scalex, scaley)\u001b[0m\n\u001b[1;32m   2426\u001b[0m             \u001b[0mstickies\u001b[0m \u001b[0;34m=\u001b[0m \u001b[0;34m[\u001b[0m\u001b[0martist\u001b[0m\u001b[0;34m.\u001b[0m\u001b[0msticky_edges\u001b[0m \u001b[0;32mfor\u001b[0m \u001b[0martist\u001b[0m \u001b[0;32min\u001b[0m \u001b[0mself\u001b[0m\u001b[0;34m.\u001b[0m\u001b[0mget_children\u001b[0m\u001b[0;34m(\u001b[0m\u001b[0;34m)\u001b[0m\u001b[0;34m]\u001b[0m\u001b[0;34m\u001b[0m\u001b[0;34m\u001b[0m\u001b[0m\n\u001b[1;32m   2427\u001b[0m             \u001b[0mx_stickies\u001b[0m \u001b[0;34m=\u001b[0m \u001b[0msum\u001b[0m\u001b[0;34m(\u001b[0m\u001b[0;34m[\u001b[0m\u001b[0msticky\u001b[0m\u001b[0;34m.\u001b[0m\u001b[0mx\u001b[0m \u001b[0;32mfor\u001b[0m \u001b[0msticky\u001b[0m \u001b[0;32min\u001b[0m \u001b[0mstickies\u001b[0m\u001b[0;34m]\u001b[0m\u001b[0;34m,\u001b[0m \u001b[0;34m[\u001b[0m\u001b[0;34m]\u001b[0m\u001b[0;34m)\u001b[0m\u001b[0;34m\u001b[0m\u001b[0;34m\u001b[0m\u001b[0m\n\u001b[0;32m-> 2428\u001b[0;31m             \u001b[0my_stickies\u001b[0m \u001b[0;34m=\u001b[0m \u001b[0msum\u001b[0m\u001b[0;34m(\u001b[0m\u001b[0;34m[\u001b[0m\u001b[0msticky\u001b[0m\u001b[0;34m.\u001b[0m\u001b[0my\u001b[0m \u001b[0;32mfor\u001b[0m \u001b[0msticky\u001b[0m \u001b[0;32min\u001b[0m \u001b[0mstickies\u001b[0m\u001b[0;34m]\u001b[0m\u001b[0;34m,\u001b[0m \u001b[0;34m[\u001b[0m\u001b[0;34m]\u001b[0m\u001b[0;34m)\u001b[0m\u001b[0;34m\u001b[0m\u001b[0;34m\u001b[0m\u001b[0m\n\u001b[0m\u001b[1;32m   2429\u001b[0m             \u001b[0;32mif\u001b[0m \u001b[0mself\u001b[0m\u001b[0;34m.\u001b[0m\u001b[0mget_xscale\u001b[0m\u001b[0;34m(\u001b[0m\u001b[0;34m)\u001b[0m\u001b[0;34m.\u001b[0m\u001b[0mlower\u001b[0m\u001b[0;34m(\u001b[0m\u001b[0;34m)\u001b[0m \u001b[0;34m==\u001b[0m \u001b[0;34m'log'\u001b[0m\u001b[0;34m:\u001b[0m\u001b[0;34m\u001b[0m\u001b[0;34m\u001b[0m\u001b[0m\n\u001b[1;32m   2430\u001b[0m                 \u001b[0mx_stickies\u001b[0m \u001b[0;34m=\u001b[0m \u001b[0;34m[\u001b[0m\u001b[0mxs\u001b[0m \u001b[0;32mfor\u001b[0m \u001b[0mxs\u001b[0m \u001b[0;32min\u001b[0m \u001b[0mx_stickies\u001b[0m \u001b[0;32mif\u001b[0m \u001b[0mxs\u001b[0m \u001b[0;34m>\u001b[0m \u001b[0;36m0\u001b[0m\u001b[0;34m]\u001b[0m\u001b[0;34m\u001b[0m\u001b[0;34m\u001b[0m\u001b[0m\n",
      "\u001b[0;31mKeyboardInterrupt\u001b[0m: "
     ]
    }
   ],
   "source": [
    "# print(pd.crosstab(df2['state_code'],df2['accepted']).T)\n",
    "county = pd.crosstab(df['accepted'],df['lender'])\n",
    "county.div(county.sum(1).astype(float), axis=0).plot(kind=\"bar\", stacked=True, figsize=(15,6))\n",
    "plt.xlabel('loan_purpose')\n",
    "p = plt.ylabel('Percentage')\n",
    "print('++'*55)\n",
    "print('')\n",
    "print('In state 48, the average rate of loan acceptance across counties varies substantially, ranging from \\\n",
    "around 30% to around 70%.')"
   ]
  },
  {
   "cell_type": "code",
   "execution_count": null,
   "metadata": {},
   "outputs": [],
   "source": [
    "df.groupby('lender')['accepted'].mean().max()\n"
   ]
  },
  {
   "cell_type": "markdown",
   "metadata": {},
   "source": [
    "#### Loan types across states looking just at states 2 and 4"
   ]
  },
  {
   "cell_type": "code",
   "execution_count": null,
   "metadata": {},
   "outputs": [],
   "source": [
    "# Loan types across states looking just at states 2 and 4\n",
    "df3 = df[(df['state_code']==2) | (df['state_code'] == 4)]\n",
    "print(df3.shape)\n",
    "# df3.head()hist"
   ]
  },
  {
   "cell_type": "code",
   "execution_count": null,
   "metadata": {},
   "outputs": [],
   "source": [
    "print(df3.groupby(['state_code','loan_type'])['accepted'].value_counts(normalize=True))\n",
    "loantyp = df3.groupby(['state_code','loan_type'])['accepted'].value_counts(normalize=True)\n",
    "loantyp.div(loantyp.sum(0).astype(float)).plot(kind=\"bar\", stacked=False, figsize=(14,5))\n",
    "plt.xlabel('loan_type')\n",
    "p = plt.ylabel('Percentage')\n",
    "print('++'*55)\n",
    "print('')\n",
    "print('For each of the four loan types, the loan acceptance rate in state 2 is lower than for the corrsponding \\\n",
    "loan type in state 4.')"
   ]
  },
  {
   "cell_type": "code",
   "execution_count": null,
   "metadata": {},
   "outputs": [],
   "source": [
    "Kill it here:"
   ]
  },
  {
   "cell_type": "markdown",
   "metadata": {},
   "source": [
    "### Removing Outliers "
   ]
  },
  {
   "cell_type": "code",
   "execution_count": null,
   "metadata": {},
   "outputs": [],
   "source": [
    "# s1 = sb.boxplot(df['loan_amount'], showfliers=True,orient='vertical')\n",
    "# plt.show()"
   ]
  },
  {
   "cell_type": "markdown",
   "metadata": {},
   "source": [
    "There are 26312 observations according to Interquartile range that are outliers."
   ]
  },
  {
   "cell_type": "code",
   "execution_count": null,
   "metadata": {},
   "outputs": [],
   "source": [
    "# q1 = np.percentile(df[\"loan_amount\"],25)\n",
    "# q3 = np.percentile(df[\"loan_amount\"],75)\n",
    "# iqr = q3 - q1\n",
    "\n",
    "# upper = q3 + (1.5*iqr)\n",
    "# lower = q1 - (1.5*iqr)\n",
    "\n",
    "# df[(df[\"loan_amount\"] > upper) | (df[\"loan_amount\"] < lower)].shape[0]"
   ]
  },
  {
   "cell_type": "markdown",
   "metadata": {},
   "source": [
    "Removing outliers using the interquartile range"
   ]
  },
  {
   "cell_type": "code",
   "execution_count": null,
   "metadata": {},
   "outputs": [],
   "source": [
    "# train_iqr = df[(df[\"loan_amount\"] < upper) & (df[\"loan_amount\"] > lower)]\n",
    "# train_iqr.shape"
   ]
  },
  {
   "cell_type": "code",
   "execution_count": null,
   "metadata": {},
   "outputs": [],
   "source": [
    "# train_iqr['loan_amount'].plot.hist"
   ]
  },
  {
   "cell_type": "code",
   "execution_count": null,
   "metadata": {},
   "outputs": [],
   "source": [
    "# Q1 = df.quantile(0.25)\n",
    "# Q3 = df.quantile(0.75)\n",
    "# IQR = Q3 - Q1\n",
    "# IQR"
   ]
  },
  {
   "cell_type": "code",
   "execution_count": null,
   "metadata": {},
   "outputs": [],
   "source": [
    "# There are 1842 observations which are outliers according to Z-Score.\n",
    "# z = (df[\"loan_amount\"] - np.mean(df[\"loan_amount\"]))/np.std(df[\"loan_amount\"])\n",
    "# (np.absolute(z)>2.5).sum()\n",
    "\n",
    "# train_z = df[(np.absolute(z) > 2.5)]\n",
    "# train_z.shape[0]\n",
    "# Removing outliers using the z-score\n",
    "\n",
    "# train_z['loan_amount'].plot.hist()"
   ]
  },
  {
   "cell_type": "markdown",
   "metadata": {},
   "source": [
    "### Dealing with Missing Values\n",
    "\n",
    "We will combine (concatenate) the training and testing values and perform the data cleaning exercise on both at once."
   ]
  },
  {
   "cell_type": "code",
   "execution_count": null,
   "metadata": {},
   "outputs": [],
   "source": [
    "# checking for missing values in our merged data\n",
    "df.isnull().sum()"
   ]
  },
  {
   "cell_type": "code",
   "execution_count": null,
   "metadata": {},
   "outputs": [],
   "source": [
    "test_values.isnull().sum()"
   ]
  },
  {
   "cell_type": "code",
   "execution_count": null,
   "metadata": {},
   "outputs": [],
   "source": [
    "col = ['applicant_income','population','minority_population_pct','ffiecmedian_family_income',\n",
    "'tract_to_msa_md_income_pct','number_of_owner-occupied_units','number_of_1_to_4_family_units']\n",
    "# This prints out the percentage of data that is missing in each column that has missing values\n",
    "print('Percentage of missing values in each column in the training data:')\n",
    "print('+-'*25)\n",
    "print(df[col].isnull().sum()/(df.shape[0])*100)"
   ]
  },
  {
   "cell_type": "code",
   "execution_count": null,
   "metadata": {},
   "outputs": [],
   "source": [
    "# replacing missing values with the applicant_income mean in the training data\n",
    "df['applicant_income'].fillna(df['applicant_income'].median(),inplace=True)\n",
    "# replacing missing values with the population mean\n",
    "df['population'].fillna(df['population'].median(),inplace=True)\n",
    "# replacing missing values with the minority_population_pct mean\n",
    "df['minority_population_pct'].fillna(df['minority_population_pct'].median(),inplace=True)\n",
    "# replacing missing values with the ffiecmedian_family_income mean\n",
    "df['ffiecmedian_family_income'].fillna(df['ffiecmedian_family_income'].median(),inplace=True)\n",
    "# replacing missing values with the tract_to_msa_md_income_pct mean\n",
    "df['tract_to_msa_md_income_pct'].fillna(df['tract_to_msa_md_income_pct'].median(),inplace=True)\n",
    "# replacing missing values with the number_of_owner-occupied_units mean\n",
    "df['number_of_owner-occupied_units'].fillna(df['number_of_owner-occupied_units'].median(),inplace=True)\n",
    "# replacing missing values with the number_of_1_to_4_family_units mean\n",
    "df['number_of_1_to_4_family_units'].fillna(df['number_of_1_to_4_family_units'].median(),inplace=True)"
   ]
  },
  {
   "cell_type": "markdown",
   "metadata": {},
   "source": [
    "++++++++++++++++++++++++++++++++++++++++++++++++++++++++++++++++++++++++++++++++++++++++++++++++++++++++++"
   ]
  },
  {
   "cell_type": "code",
   "execution_count": null,
   "metadata": {},
   "outputs": [],
   "source": [
    "col = ['applicant_income','population','minority_population_pct','ffiecmedian_family_income',\n",
    "'tract_to_msa_md_income_pct','number_of_owner-occupied_units','number_of_1_to_4_family_units']\n",
    "# This prints out the percentage of data that is missing in each column that has missing values\n",
    "print('Percentage of missing values in each column in the testdata:')\n",
    "print('+-'*25)\n",
    "print(test_values[col].isnull().sum()/(test_values.shape[0])*100)"
   ]
  },
  {
   "cell_type": "code",
   "execution_count": null,
   "metadata": {},
   "outputs": [],
   "source": [
    "# replacing missing values with the applicant_income mean for testdata\n",
    "test_values['applicant_income'].fillna(test_values['applicant_income'].median(),inplace=True)\n",
    "# replacing missing values with the population mean\n",
    "test_values['population'].fillna(test_values['population'].median(),inplace=True)\n",
    "# replacing missing values with the minority_population_pct mean\n",
    "test_values['minority_population_pct'].fillna(test_values['minority_population_pct'].median(),inplace=True)\n",
    "# replacing missing values with the ffiecmedian_family_income mean\n",
    "test_values['ffiecmedian_family_income'].fillna(test_values['ffiecmedian_family_income'].median(),inplace=True)\n",
    "# replacing missing values with the tract_to_msa_md_income_pct mean\n",
    "test_values['tract_to_msa_md_income_pct'].fillna(test_values['tract_to_msa_md_income_pct'].median(),inplace=True)\n",
    "# replacing missing values with the number_of_owner-occupied_units mean\n",
    "test_values['number_of_owner-occupied_units'].fillna(test_values['number_of_owner-occupied_units'].median(),inplace=True)\n",
    "# replacing missing values with the number_of_1_to_4_family_units mean\n",
    "test_values['number_of_1_to_4_family_units'].fillna(test_values['number_of_1_to_4_family_units'].median(),inplace=True)"
   ]
  },
  {
   "cell_type": "code",
   "execution_count": null,
   "metadata": {},
   "outputs": [],
   "source": [
    "# We check for duplicate values and remove them\n",
    "print('There are {} duplicates values in the training data'.format(df.duplicated().sum()))\n",
    "# Remove duplicates.\n",
    "df = df.drop_duplicates()\n",
    "print('There are {} observations in the train data after removing all duplicates.'.format(df.shape[0]))"
   ]
  },
  {
   "cell_type": "code",
   "execution_count": null,
   "metadata": {},
   "outputs": [],
   "source": [
    "df.isnull().sum()"
   ]
  },
  {
   "cell_type": "code",
   "execution_count": null,
   "metadata": {},
   "outputs": [],
   "source": [
    "test_values.isnull().sum()"
   ]
  },
  {
   "cell_type": "markdown",
   "metadata": {},
   "source": [
    "## Model Building and Selection"
   ]
  },
  {
   "cell_type": "markdown",
   "metadata": {},
   "source": [
    "I will now explore a number of classification algorithms. Their performance when compared to each other may give a first indication on what the most promising algorithms for the dataset are. I can then focus on these to furtehr optimize the hyperparameters.\n",
    "\n",
    "For now, I include the following algorithms:\n",
    "\n",
    "* logistic regression (<a href=\"https://scikit-learn.org/stable/modules/generated/sklearn.linear_model.LogisticRegression.html\">Sklearn</a>)\n",
    "* decison tree classifier (<a href=\"https://scikit-learn.org/stable/modules/generated/sklearn.tree.DecisionTreeClassifier.html\">Sklearn</a>)\n",
    "* random forest classifier (<a href=\"https://scikit-learn.org/stable/modules/generated/sklearn.ensemble.RandomForestClassifier.html\">Sklearn</a>)\n",
    "* gradient boosted tree classifier (<a href=\"https://scikit-learn.org/stable/modules/generated/sklearn.ensemble.GradientBoostingClassifier.html\">Sklearn</a>)\n",
    "* xgboosting classifier (<a href=\"https://xgboost.readthedocs.io/en/latest/python/python_api.html\">XGBoost Python API reference</a>)\n",
    "* support vector classifier (<a href=\"https://scikit-learn.org/stable/modules/generated/sklearn.svm.SVC.html\">Sklearn</a>)\n",
    "\n",
    "All algorithm are first run using their default values."
   ]
  },
  {
   "cell_type": "code",
   "execution_count": null,
   "metadata": {
    "scrolled": true
   },
   "outputs": [],
   "source": [
    "# finding the relationship between the variables\n",
    "cor =df.corr()\n",
    "sb.heatmap(cor, xticklabels=cor.columns.values, yticklabels=cor.columns.values, \n",
    "           annot = True, annot_kws={'size':13})\n",
    "heat_map=plt.gcf()\n",
    "heat_map.set_size_inches(20,15)\n",
    "plt.xticks(fontsize=14)\n",
    "plt.yticks(fontsize=14)\n",
    "# plt.savefig('correlation_plot.png')\n",
    "plt.show()"
   ]
  },
  {
   "cell_type": "code",
   "execution_count": null,
   "metadata": {},
   "outputs": [],
   "source": [
    "couls = np.full((cor.shape[0],),True,dtype=bool)\n",
    "for i in range(cor.shape[0]):\n",
    "    for j in range(1+1,cor.shape[0]):\n",
    "        if cor.iloc[i,j] >= 0.9:\n",
    "            if couls[j]:\n",
    "                couls[j] = False\n",
    "                \n",
    "                \n",
    "selected_columns = df.columns[couls]\n",
    "\n",
    "dff = df[selected_columns]\n",
    "dff.head()"
   ]
  },
  {
   "cell_type": "code",
   "execution_count": null,
   "metadata": {},
   "outputs": [],
   "source": [
    "# Splitting my cleaned  train data into train and validate\n",
    "from sklearn.preprocessing import MinMaxScaler,StandardScaler\n",
    "from sklearn.model_selection import train_test_split,cross_val_score\n",
    "from sklearn.metrics import accuracy_score,roc_auc_score\n",
    "from sklearn.linear_model import LogisticRegression\n",
    "from sklearn.tree import DecisionTreeClassifier\n",
    "from sklearn.ensemble import GradientBoostingClassifier\n",
    "from sklearn.ensemble import RandomForestClassifier\n",
    "from sklearn.svm import SVC\n",
    "import xgboost\n",
    "import time"
   ]
  },
  {
   "cell_type": "code",
   "execution_count": null,
   "metadata": {},
   "outputs": [],
   "source": [
    "dropcols = ['accepted']#,'number_of_owner-occupied_units','number_of_1_to_4_family_units']\n",
    "#dropcols = ['accepted','population','minority_population_pct','ffiecmedian_family_income',\n",
    "#'tract_to_msa_md_income_pct','number_of_owner-occupied_units','number_of_1_to_4_family_units','lender']\n",
    "X = df.drop(columns= dropcols,axis=1)\n",
    "y = df['accepted']\n",
    "print(X.shape)\n",
    "print(y.shape)"
   ]
  },
  {
   "cell_type": "code",
   "execution_count": null,
   "metadata": {},
   "outputs": [],
   "source": [
    "X_train,X_test,y_train,y_test = train_test_split(X,y,test_size = 0.25,random_state=1)\n",
    "print(X_train.shape)\n",
    "print(y_train.shape)\n",
    "print('+-'*7)\n",
    "print(X_test.shape)\n",
    "print(y_test.shape)"
   ]
  },
  {
   "cell_type": "code",
   "execution_count": null,
   "metadata": {},
   "outputs": [],
   "source": [
    "# normalizing data using the standard scaler since the different variables have different scales of measurement\n",
    "columns_to_scale = X.columns.tolist()\n",
    "# std_scaler = MinMaxScaler()\n",
    "# X_train = std_scaler.fit(X_train[columns_to_scale])\n",
    "# X_train= std_scaler.transform(X_train[columns_to_scale])\n",
    "# X_test[columns_to_scale] = std_scaler.transform(X_test[columns_to_scale])\n",
    "# print(X_train.columns)\n",
    "# print('+-'*50)\n",
    "# print(X_test.columns)"
   ]
  },
  {
   "cell_type": "code",
   "execution_count": null,
   "metadata": {},
   "outputs": [],
   "source": [
    "# normalizing data using the minmax scaler for the test data\n",
    "# dropcols = ['state_code','county_code','number_of_owner-occupied_units','number_of_1_to_4_family_units']\n",
    "# columns_to_scale = test_values.columns.tolist()\n",
    "# test_values = test_values[columns_to_scale]"
   ]
  },
  {
   "cell_type": "markdown",
   "metadata": {},
   "source": [
    "#### Logistic Regression"
   ]
  },
  {
   "cell_type": "code",
   "execution_count": null,
   "metadata": {},
   "outputs": [],
   "source": [
    "logit = LogisticRegression()\n",
    "before = time.time()\n",
    "logitmodel = logit.fit(X_train,y_train)\n",
    "logpred = logitmodel.predict(X_test)\n",
    "print(\"The accuracy score for the logistic regression is %.2f\" % (accuracy_score(logpred,y_test)*100))\n",
    "after = time.time()\n",
    "print(\"Time taken to execute algorithm is : {:5.2f} s\".format(after - before))\n",
    "print('+-'*50)"
   ]
  },
  {
   "cell_type": "markdown",
   "metadata": {},
   "source": [
    "#### DecisionTreeClassifier"
   ]
  },
  {
   "cell_type": "code",
   "execution_count": null,
   "metadata": {},
   "outputs": [],
   "source": [
    "dtc = DecisionTreeClassifier(max_depth=5) \n",
    "before = time.time()\n",
    "dtcmodel = dtc.fit(X_train,y_train)\n",
    "dtcpred = dtcmodel.predict(X_test)\n",
    "print(\"The accuracy score for the decision tree classifier is %.2f\" % (accuracy_score(dtcpred,y_test)*100))\n",
    "after = time.time()\n",
    "print(\"Time taken to execute algorithm is : {:5.2f} s\".format(after - before))\n",
    "# print('The accuracy score for logistic regression is {}'.format(accuracy_score(y_val,ypred)*100))\n",
    "print('+-'*50)\n",
    "print('')\n",
    "# plotting feature importance\n",
    "fig, ax = plt.subplots()\n",
    "width=0.35\n",
    "ax.bar(np.arange(len(columns_to_scale)), dtcmodel.feature_importances_, width, color='r')\n",
    "ax.set_xticks(np.arange(len(dtcmodel.feature_importances_)))\n",
    "ax.set_xticklabels(X_train.columns.values,rotation=90)\n",
    "plt.title('Feature Importance from Decision Tree')\n",
    "ax.set_ylabel('Normalized Gini Importance')"
   ]
  },
  {
   "cell_type": "markdown",
   "metadata": {},
   "source": [
    "#### RandomForestClassifier"
   ]
  },
  {
   "cell_type": "code",
   "execution_count": null,
   "metadata": {},
   "outputs": [],
   "source": [
    "# rand= RandomForestClassifier(n_jobs=-1,max_depth=25,n_estimators=500)\n",
    "# before = time.time()\n",
    "# randmodel = rand.fit(X_train,y_train)\n",
    "# randpred = randmodel.predict(X_test)\n",
    "# print(\"The accuracy score for the random forest classifier is %.2f\" % (accuracy_score(randpred,y_test)*100))\n",
    "# after = time.time()\n",
    "# print(\"Time taken to execute algorithm is : {:5.2f} s\".format(after - before))"
   ]
  },
  {
   "cell_type": "code",
   "execution_count": null,
   "metadata": {},
   "outputs": [],
   "source": [
    "rand = RandomForestClassifier(bootstrap=True,criterion = \"entropy\",\n",
    "                              n_jobs=-1,\n",
    "                              max_depth=25,\n",
    "                              n_estimators=700,\n",
    "                              random_state=0,\n",
    "                              class_weight=\"balanced\",\n",
    "                              max_features=0.5)\n",
    "randmodel = rand.fit(X_train,y_train)\n",
    "randpred = randmodel.predict(X_test)\n",
    "# rfPredictproba = randomForest.predict_proba(X_test)[:,1] #for ROC curve\n",
    "rfAccuracy = accuracy_score(y_test,randpred)\n",
    "roc_score = roc_auc_score(y_test,randpred)\n",
    "# print(rfAccuracy)\n",
    "print(\"The accuracy score for the random forest classifier is %.2f with an roc_score of %.2f\" % (rfAccuracy*100,roc_score))\n",
    "after = time.time()\n",
    "print(\"Time taken to execute algorithm is : {:5.2f} s\".format(after - before))\n",
    "print('+-'*50)\n",
    "print('')\n",
    "\n",
    "# plotting feature importance\n",
    "fig, ax = plt.subplots()\n",
    "width=0.35\n",
    "ax.bar(np.arange(len(columns_to_scale)), randmodel.feature_importances_, width, color='b')\n",
    "ax.set_xticks(np.arange(len(randmodel.feature_importances_)))\n",
    "ax.set_xticklabels(X_train.columns.values,rotation=90)\n",
    "plt.title('Feature Importance from Random Forest')\n",
    "ax.set_ylabel('Normalized Gini Importance')"
   ]
  },
  {
   "cell_type": "code",
   "execution_count": null,
   "metadata": {},
   "outputs": [],
   "source": [
    "randmodel.feature_importances_"
   ]
  },
  {
   "cell_type": "markdown",
   "metadata": {},
   "source": [
    "#### xgboost"
   ]
  },
  {
   "cell_type": "code",
   "execution_count": null,
   "metadata": {},
   "outputs": [],
   "source": [
    "# xgb = XGBClassifier()\n",
    "# before = time.time()\n",
    "# xgbmodel = xgb.fit(X_train,y_train)\n",
    "# xgbpred = xgbmodel.predict(X_test)\n",
    "# print(\"The accuracy score for the xgboost is %.2f\" % (accuracy_score(xgbpred,y_test)*100))\n",
    "# after = time.time()\n",
    "# print(\"Time taken to execute algorithm is : {:5.2f} s\".format(after - before))\n",
    "from datetime import datetime\n",
    "st = datetime.now()\n",
    "eval_set=[(X_test, y_test)]\n",
    "clf = xgboost.sklearn.XGBClassifier(\n",
    "    objective=\"binary:logistic\", \n",
    "    learning_rate=0.01, \n",
    "    seed=9616, \n",
    "    max_depth=25, \n",
    "    gamma=10, \n",
    "    n_estimators=1000)\n",
    "\n",
    "clf.fit(X_train, y_train, early_stopping_rounds=20, eval_metric=\"auc\", eval_set=eval_set, verbose=100)\n",
    "\n",
    "print(datetime.now()-st)\n",
    "\n",
    "y_pred = clf.predict(X_test)\n",
    "\n",
    "accuracy = accuracy_score(np.array(y_test).flatten(), y_pred)\n",
    "print(\"Accuracy: %.10f%%\" % (accuracy * 100.0))\n",
    "\n",
    "# final_pred = pd.DataFrame(clf.predict_proba(np.array(finalTest)))\n",
    "# dfSub = pd.concat([test_member_id, final_pred.ix[:, 1:2]], axis=1)\n",
    "# dfSub.rename(columns={1:'loan_status'}, inplace=True)\n",
    "# dfSub.to_csv((('%s.csv') % (submission_file_name)), index=False)\n",
    "\n",
    "print('+-'*50)\n",
    "print('')\n",
    "# plotting feature importance\n",
    "fig, ax = plt.subplots()\n",
    "width=0.35\n",
    "ax.bar(np.arange(len(columns_to_scale)), clf.feature_importances_, width, color='r')\n",
    "ax.set_xticks(np.arange(len(clf.feature_importances_)))\n",
    "ax.set_xticklabels(X_train.columns.values,rotation=90)\n",
    "plt.title('Feature Importance from Gradient Boosting Classifier')\n",
    "ax.set_ylabel('Normalized Gini Importance')"
   ]
  },
  {
   "cell_type": "markdown",
   "metadata": {},
   "source": [
    "Plotting feature importance for choosen model"
   ]
  },
  {
   "cell_type": "code",
   "execution_count": null,
   "metadata": {},
   "outputs": [],
   "source": [
    "# fig, ax = plt.subplots(figsize=(10, 10))\n",
    "\n",
    "# feature_importance = est.feature_importances_\n",
    "# # make importances relative to max importance\n",
    "# # feature_importance = 100.0 * (feature_importance / feature_importance.max())\n",
    "# sorted_idx = np.argsort(feature_importance)\n",
    "# pos = np.arange(sorted_idx.shape[0]) + .5\n",
    "# plt.barh(pos, feature_importance[sorted_idx], align='center', color='g',alpha=0.75)\n",
    "# plt.yticks(pos, np.array(X_train.columns)[sorted_idx])\n",
    "# plt.xlabel('Importance', fontsize=18)\n",
    "# ax.set_ylim(0,11)\n",
    "# plt.title('Variable Importance', fontsize=18)\n",
    "# ax.tick_params(labelsize=18)\n",
    "\n",
    "\n",
    "# plt.savefig(os.path.join(cwd,'images','feature_importance.png'), bbox_inches='tight')"
   ]
  },
  {
   "cell_type": "code",
   "execution_count": null,
   "metadata": {},
   "outputs": [],
   "source": [
    "grad = GradientBoostingClassifier(loss='deviance',\n",
    "    learning_rate=0.1,\n",
    "    n_estimators=600,\n",
    "    subsample=1.0,\n",
    "    criterion='friedman_mse',\n",
    "    min_samples_split=2,\n",
    "    min_samples_leaf=1,\n",
    "    min_weight_fraction_leaf=0.0,\n",
    "    max_depth=7,\n",
    "    min_impurity_decrease=0.0,\n",
    "    min_impurity_split=None,\n",
    "    init=None,\n",
    "    random_state=None,\n",
    "    max_features=None,\n",
    "    verbose=0,\n",
    "    max_leaf_nodes=None,\n",
    "    warm_start=False,\n",
    "    presort='auto',\n",
    "    validation_fraction=0.1,\n",
    "    n_iter_no_change=None,\n",
    "    tol=0.0001,)\n",
    "gradmodel = grad.fit(X_train,y_train)\n",
    "gradpred = gradmodel.predict(X_test)\n",
    "# rfPredictproba = randomForest.predict_proba(X_test)[:,1] #for ROC curve\n",
    "rfAccuracy = accuracy_score(y_test,gradpred)\n",
    "roc_score = roc_auc_score(y_test,gradpred)\n",
    "# print(rfAccuracy)\n",
    "print(\"The accuracy score for the random forest classifier is %.2f with an roc_score of %.2f\" % (rfAccuracy*100,roc_score))\n",
    "after = time.time()\n",
    "print(\"Time taken to execute algorithm is : {:5.2f} s\".format(after - before))\n",
    "print('+-'*50)\n",
    "print('')\n",
    "\n",
    "# plotting feature importance\n",
    "fig, ax = plt.subplots()\n",
    "width=0.35\n",
    "ax.bar(np.arange(len(columns_to_scale)), randmodel.feature_importances_, width, color='b')\n",
    "ax.set_xticks(np.arange(len(randmodel.feature_importances_)))\n",
    "ax.set_xticklabels(X_train.columns.values,rotation=90)\n",
    "plt.title('Feature Importance from Random Forest')\n",
    "ax.set_ylabel('Normalized Gini Importance')"
   ]
  },
  {
   "cell_type": "code",
   "execution_count": null,
   "metadata": {},
   "outputs": [],
   "source": [
    "model_save"
   ]
  },
  {
   "cell_type": "code",
   "execution_count": null,
   "metadata": {},
   "outputs": [],
   "source": []
  },
  {
   "cell_type": "code",
   "execution_count": null,
   "metadata": {},
   "outputs": [],
   "source": []
  },
  {
   "cell_type": "code",
   "execution_count": null,
   "metadata": {},
   "outputs": [],
   "source": []
  },
  {
   "cell_type": "code",
   "execution_count": null,
   "metadata": {},
   "outputs": [],
   "source": []
  },
  {
   "cell_type": "code",
   "execution_count": null,
   "metadata": {},
   "outputs": [],
   "source": []
  },
  {
   "cell_type": "code",
   "execution_count": null,
   "metadata": {},
   "outputs": [],
   "source": []
  },
  {
   "cell_type": "code",
   "execution_count": null,
   "metadata": {},
   "outputs": [],
   "source": []
  },
  {
   "cell_type": "code",
   "execution_count": null,
   "metadata": {},
   "outputs": [],
   "source": []
  },
  {
   "cell_type": "code",
   "execution_count": null,
   "metadata": {},
   "outputs": [],
   "source": []
  },
  {
   "cell_type": "code",
   "execution_count": null,
   "metadata": {},
   "outputs": [],
   "source": []
  },
  {
   "cell_type": "code",
   "execution_count": null,
   "metadata": {},
   "outputs": [],
   "source": []
  },
  {
   "cell_type": "code",
   "execution_count": null,
   "metadata": {},
   "outputs": [],
   "source": []
  },
  {
   "cell_type": "code",
   "execution_count": null,
   "metadata": {},
   "outputs": [],
   "source": []
  },
  {
   "cell_type": "code",
   "execution_count": null,
   "metadata": {},
   "outputs": [],
   "source": []
  },
  {
   "cell_type": "markdown",
   "metadata": {},
   "source": [
    "### Removing outliers in our training data"
   ]
  },
  {
   "cell_type": "code",
   "execution_count": null,
   "metadata": {},
   "outputs": [],
   "source": []
  },
  {
   "cell_type": "code",
   "execution_count": null,
   "metadata": {},
   "outputs": [],
   "source": []
  },
  {
   "cell_type": "code",
   "execution_count": null,
   "metadata": {},
   "outputs": [],
   "source": []
  },
  {
   "cell_type": "markdown",
   "metadata": {},
   "source": [
    "Now our data is clean and devoid of missing values"
   ]
  },
  {
   "cell_type": "code",
   "execution_count": null,
   "metadata": {},
   "outputs": [],
   "source": [
    "print(train_scores, valid_scores)\n"
   ]
  }
 ],
 "metadata": {
  "kernelspec": {
   "display_name": "Python 3",
   "language": "python",
   "name": "python3"
  },
  "language_info": {
   "codemirror_mode": {
    "name": "ipython",
    "version": 3
   },
   "file_extension": ".py",
   "mimetype": "text/x-python",
   "name": "python",
   "nbconvert_exporter": "python",
   "pygments_lexer": "ipython3",
   "version": "3.7.3"
  },
  "latex_envs": {
   "LaTeX_envs_menu_present": true,
   "autoclose": false,
   "autocomplete": true,
   "bibliofile": "biblio.bib",
   "cite_by": "apalike",
   "current_citInitial": 1,
   "eqLabelWithNumbers": true,
   "eqNumInitial": 1,
   "hotkeys": {
    "equation": "Ctrl-E",
    "itemize": "Ctrl-I"
   },
   "labels_anchors": false,
   "latex_user_defs": false,
   "report_style_numbering": false,
   "user_envs_cfg": false
  },
  "toc": {
   "base_numbering": 1,
   "nav_menu": {},
   "number_sections": true,
   "sideBar": true,
   "skip_h1_title": false,
   "title_cell": "Table of Contents",
   "title_sidebar": "Contents",
   "toc_cell": false,
   "toc_position": {},
   "toc_section_display": true,
   "toc_window_display": false
  },
  "varInspector": {
   "cols": {
    "lenName": 16,
    "lenType": 16,
    "lenVar": 40
   },
   "kernels_config": {
    "python": {
     "delete_cmd_postfix": "",
     "delete_cmd_prefix": "del ",
     "library": "var_list.py",
     "varRefreshCmd": "print(var_dic_list())"
    },
    "r": {
     "delete_cmd_postfix": ") ",
     "delete_cmd_prefix": "rm(",
     "library": "var_list.r",
     "varRefreshCmd": "cat(var_dic_list()) "
    }
   },
   "types_to_exclude": [
    "module",
    "function",
    "builtin_function_or_method",
    "instance",
    "_Feature"
   ],
   "window_display": false
  }
 },
 "nbformat": 4,
 "nbformat_minor": 2
}
